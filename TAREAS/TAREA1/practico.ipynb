{
 "cells": [
  {
   "cell_type": "code",
   "execution_count": null,
   "metadata": {},
   "outputs": [],
   "source": [
    "Como primer paso para la tarea asignada podemos utilizar librerias como:\n",
    "numpy que nos sirve para generar datos aleatorios controlados.\n",
    "matplotlib o seaborn para visualizar la distribución y encontrar la curva que mejor represente la distribución de los puntos generados.\n",
    "Esas librerías la instalamos desde la terminal porque nos daba un error, instalando desde la terminal utilizamos los siguientes párrafos\n",
    "pip install numpy \n",
    "pip install matplotlib \n",
    "pip install seaborn\n",
    "Procedemos a generar los datos aleatorios controlados\n",
    "Generaremos 100 ejemplos con valores de peso y estatura que cumplan con restricciones lógicas.\n",
    "Utilizaremos la librería numpy para generar estos valores de forma aleatoria pero controlada.\n",
    "Después realizamos la visualización y Ajuste de la Curva:\n",
    "Una vez generados los datos, utilizaremos las librerías matplotlib o seaborn para visualizar la relación entre peso y estatura.\n",
    "Posteriormente utilizaremos numpy.polyfit para ajustar una curva como una recta que represente mejor la relación entre estos datos.\n",
    "Para generar las estaturas entre 1.4 y 2.0 metros utilizamos “heights”,dependiendo de la estatura, se genera un rango de peso lógico.\n",
    "Utilizamos seaborn.scatterplot para mostrar los puntos generados (peso vs. estatura).\n",
    "Luego, ajustamos una curva utilizando numpy.polyfit, que en este caso es una recta\n",
    "Finalmente, mostramos la recta ajustada junto con los datos para ver cómo se ajusta.\n"
   ]
  }
 ],
 "metadata": {
  "language_info": {
   "name": "python"
  }
 },
 "nbformat": 4,
 "nbformat_minor": 2
}
