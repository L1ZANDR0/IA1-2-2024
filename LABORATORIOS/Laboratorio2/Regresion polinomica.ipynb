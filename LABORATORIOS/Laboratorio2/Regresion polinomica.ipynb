{
  "cells": [
    {
      "cell_type": "markdown",
      "metadata": {
        "id": "1-sXu98nRGHs"
      },
      "source": [
        "\n",
        "# Laboratorio 2(Regresion Polinomica) Grupo 2\n",
        " <h3>Implementacion de Regresion lineal para entrenar el modelo, y realizar las respectivas predicciones.<h3>\n",
        " <HR>\n",
        " <h3>\n",
        "  NOMBRE: <Name>MAMANI RAMOS LIZANDRO<br>\n",
        "  CARRERA: <Carrera> INGENIERIA DE SISTEMAS <BR>\n",
        "  FECHA: <Current> 26/08/2024<BR>\n",
        "\n",
        "  * [Enlace al git hub]( https://github.com/L1ZANDR0/IA1-2-2024/tree/main/LABORATORIOS/Laboratorio2)\n",
        "\n",
        "  \n",
        " <h3>"
      ]
    },
    {
      "cell_type": "markdown",
      "metadata": {},
      "source": [
        "Para el laboratorio hizo uso del dataset para La cantidad de bicicletas que pasan al alquiler por hora entre los años 2011 y 2012.el enlace al dataset es [Bike Sharing Dataset](https://www.kaggle.com/datasets/lakshmi25npathi/bike-sharing-dataset).\n",
        "\n",
        "El archivo `hour.csv` contiene un conjunto de entrenamiento con las siguientes caracteristicas:\n",
        "\n",
        "\n",
        "**Especificación de cada variable de entrada.-**\n",
        "\n",
        "- instant.- El instante en que pase.\n",
        "- dteday.- fecha del registro\n",
        "- season.- la temporada del registro\n",
        "- yr.- el año\n",
        "- mnth.- el mes del registro\n",
        "- h.- hora del registro\n",
        "- holiday.- Si es vacaciones o no\n",
        "- weekday.- dia de la semana\n",
        "- workingda.- si es dia de trabajo\n",
        "- weathersit.- situacion meteorologica\n",
        "- temp.- temperatura\n",
        "- atemp.- Temperatura normalizada en grados Celsius. Los valores se dividen en 50 (máximo).\n",
        "- hum.- Humedad normalizada. Los valores se dividen entre 100 (max)\n",
        "- windspeed.- Velocidad del viento normalizada. Los valores se dividen en 67 (máx.)\n",
        "- casual.- recuento de usuarios ocasionales\n",
        "- registered.- recuento de usuarios registrados\n",
        "\n",
        "**Especificación de la variable de salida.-**\n",
        "- cnt.- recuento total de bicicletas de alquiler, incluidas las ocasionales y registradas\n",
        "\n",
        "\n"
      ]
    },
    {
      "cell_type": "markdown",
      "metadata": {
        "id": "g45Nh8kCRGH2"
      },
      "source": [
        "## 1. Regresion polinomica"
      ]
    },
    {
      "cell_type": "code",
      "execution_count": 1,
      "metadata": {},
      "outputs": [],
      "source": [
        "# utilizando la libreria os para manejos de directorios\n",
        "import os\n",
        "\n",
        "# Computacion vectorial y cientifica para python\n",
        "import numpy as np\n",
        "\n",
        "#importamos pandas para el manejo del dataset, y separarlos dentro de una matriz\n",
        "import pandas as pd\n",
        "\n",
        "#esta tabulate nos sirve para hacer tablas\n",
        "from tabulate import tabulate\n",
        "\n",
        "# Librerias para graficación (trazado de gráficos)\n",
        "from matplotlib import pyplot\n",
        "from mpl_toolkits.mplot3d import Axes3D  # -> Necesario para graficar superficies 3D\n",
        "\n",
        "#Para separa el 20% y 80%\n",
        "from sklearn.model_selection import train_test_split\n",
        "\n",
        "# llama a matplotlib a embeber graficas dentro de los cuadernillos\n",
        "%matplotlib inline\n"
      ]
    },
    {
      "cell_type": "markdown",
      "metadata": {
        "id": "zJ-BJ8xyRGH6"
      },
      "source": [
        "Importamos **PolynomialFeatures** es una clase en scikit-learn que se utiliza para generar características polinómicas a partir de un conjunto de características existente. En el contexto de regresión polinómica, puedes usar PolynomialFeatures para generar nuevas características que son combinaciones polinómicas de las características originales."
      ]
    },
    {
      "cell_type": "code",
      "execution_count": 10,
      "metadata": {
        "id": "dZiNOkC7RGH6"
      },
      "outputs": [],
      "source": [
        "from sklearn.preprocessing import PolynomialFeatures"
      ]
    },
    {
      "cell_type": "markdown",
      "metadata": {
        "id": "XlAuLoGxRGH6"
      },
      "source": [
        "### 1.1 Cargamos los datos del dataset\n"
      ]
    },
    {
      "cell_type": "code",
      "execution_count": 23,
      "metadata": {
        "id": "N0qCAGnMRGH6",
        "outputId": "28901a1b-e235-42f5-c2cd-dd404896d326"
      },
      "outputs": [
        {
          "name": "stdout",
          "output_type": "stream",
          "text": [
            "La cantidad de caracteristicas es: 120\n",
            "la cantidad de ejemplos es: 13903\n",
            "La cantidad de ejemplos del 80% es: 13903\n",
            "La cantidad de ejemplos del 20% es: 3476\n"
          ]
        },
        {
          "data": {
            "text/plain": [
              "array([[1.00000e+00, 1.00000e+00, 0.00000e+00, ..., 3.24000e+02,\n",
              "        9.72000e+02, 2.91600e+03],\n",
              "       [1.00000e+00, 4.00000e+00, 0.00000e+00, ..., 4.22500e+03,\n",
              "        2.94450e+04, 2.05209e+05],\n",
              "       [1.00000e+00, 4.00000e+00, 0.00000e+00, ..., 0.00000e+00,\n",
              "        0.00000e+00, 9.00000e+00],\n",
              "       ...,\n",
              "       [1.00000e+00, 3.00000e+00, 0.00000e+00, ..., 6.76000e+02,\n",
              "        4.23800e+03, 2.65690e+04],\n",
              "       [1.00000e+00, 1.00000e+00, 0.00000e+00, ..., 9.00000e+00,\n",
              "        2.91000e+02, 9.40900e+03],\n",
              "       [1.00000e+00, 4.00000e+00, 1.00000e+00, ..., 1.08900e+03,\n",
              "        2.46180e+04, 5.56516e+05]])"
            ]
          },
          "execution_count": 23,
          "metadata": {},
          "output_type": "execute_result"
        }
      ],
      "source": [
        "data = pd.read_csv('hour.csv', delimiter=',')\n",
        "poly = PolynomialFeatures(degree=2)\n",
        "\n",
        "#retiramos el instant y la dteday del las columnas, quitamos el precio ya que ira a el vector Y, tambien quitamos los titulos\n",
        "dataset = data.drop(['instant', 'dteday'], axis=1).astype(float)\n",
        "\n",
        "train_dataset, test_dataset = train_test_split(dataset, test_size=0.2, random_state=42)\n",
        "\n",
        "x_test = test_dataset.drop(['cnt'], axis=1).values\n",
        "y_test = test_dataset['cnt'].values\n",
        "\n",
        "# Seleccionamos las columnas para X y la columna 'cnt' para y\n",
        "X_train = poly.fit_transform(train_dataset.drop(['cnt'], axis=1).values)\n",
        "y_train = train_dataset['cnt'].values\n",
        "m_train = len(y_train)\n",
        "\n",
        "# Ahora, X y y deberían contener datos numéricos del 80% del dataset\n",
        "\n",
        "print(f'La cantidad de caracteristicas es: {X_train.shape[1]}')\n",
        "print(f'la cantidad de ejemplos es: {y_train.shape[0]}')\n",
        "print(f'La cantidad de ejemplos del 80% es: {len(train_dataset)}')\n",
        "print(f'La cantidad de ejemplos del 20% es: {len(test_dataset)}')\n",
        "\n",
        "X_train"
      ]
    },
    {
      "cell_type": "markdown",
      "metadata": {},
      "source": [
        "Haciendo un analisis de los tipos de datos para cada columna:"
      ]
    },
    {
      "cell_type": "code",
      "execution_count": 25,
      "metadata": {},
      "outputs": [
        {
          "name": "stdout",
          "output_type": "stream",
          "text": [
            "<class 'pandas.core.frame.DataFrame'>\n",
            "RangeIndex: 17379 entries, 0 to 17378\n",
            "Data columns (total 15 columns):\n",
            " #   Column      Non-Null Count  Dtype  \n",
            "---  ------      --------------  -----  \n",
            " 0   season      17379 non-null  float64\n",
            " 1   yr          17379 non-null  float64\n",
            " 2   mnth        17379 non-null  float64\n",
            " 3   hr          17379 non-null  float64\n",
            " 4   holiday     17379 non-null  float64\n",
            " 5   weekday     17379 non-null  float64\n",
            " 6   workingday  17379 non-null  float64\n",
            " 7   weathersit  17379 non-null  float64\n",
            " 8   temp        17379 non-null  float64\n",
            " 9   atemp       17379 non-null  float64\n",
            " 10  hum         17379 non-null  float64\n",
            " 11  windspeed   17379 non-null  float64\n",
            " 12  casual      17379 non-null  float64\n",
            " 13  registered  17379 non-null  float64\n",
            " 14  cnt         17379 non-null  float64\n",
            "dtypes: float64(15)\n",
            "memory usage: 2.0 MB\n"
          ]
        }
      ],
      "source": [
        "dataset.info()"
      ]
    },
    {
      "cell_type": "markdown",
      "metadata": {
        "id": "Orv9587eRGH6"
      },
      "source": [
        "### 1.2 Normalización de caracteristicas\n",
        "\n",
        "Al visualizar los datos se puede observar que las caracteristicas tienen diferentes magnitudes, por lo cual se debe transformar cada valor en una escala de valores similares, esto con el fin de que el descenso por el gradiente pueda converger mas rapidamente. \n",
        "\n",
        "En este caso hacemos el uso de la siguiente funcion para normalizar los datos"
      ]
    },
    {
      "cell_type": "code",
      "execution_count": 26,
      "metadata": {},
      "outputs": [],
      "source": [
        "def  featureNormalize(X):\n",
        "    X_norm = X.copy()\n",
        "\n",
        "    #creamos un array de ceros con una longitud igual al número de columnas en el array X. La variable mu y sigma se inicializa como este array de ceros.\n",
        "    mu = np.zeros(X.shape[1])\n",
        "    sigma = np.zeros(X.shape[1])\n",
        "\n",
        "    #Creamos el promedio de cada columna de X\n",
        "    mu = np.mean(X, axis = 0)\n",
        "    sigma = np.std(X, axis = 0)\n",
        "    \n",
        "    sigma[sigma == 0] = 1\n",
        "    \n",
        "    #normalizamos los datos con la siguiente formula\n",
        "    X_norm = (X - mu) / sigma\n",
        "\n",
        "    return X_norm, mu, sigma\n"
      ]
    },
    {
      "cell_type": "code",
      "execution_count": 29,
      "metadata": {
        "id": "sJT9iKy9RGH6",
        "outputId": "d0567a23-152c-417b-a669-049b54ab1b3d"
      },
      "outputs": [
        {
          "name": "stdout",
          "output_type": "stream",
          "text": [
            "X_norm[:,0]  X_norm[:, 1]  X_norm[:, 2]  X_norm[:, 3]  X_norm[:, 4]  X_norm[:, 5]  X_norm[:, 6]  X_norm[:, 7]  X_norm[:, 8]  X_norm[:, 9]  X_norm[:, 10]  X_norm[:, 11]  X_norm[:, 12]  X_norm[:, 13]     .....\n",
            "----------------------------------------------------------------------------------------------------------------------------------------------------------------------------\n",
            "  0.0000          -1.3636      -1.0041       -1.6157        -0.0806       -0.1719        1.4925       -1.4563       -0.6669       -1.5408        -1.6203        -0.3994         0.2787        -0.3627\n",
            "  0.0000           1.3469      -1.0041        1.0030         0.9322       -0.1719       -0.4963        0.6867       -0.6669        0.1171         0.1382        -1.0737        -0.6977         0.5842\n",
            "  0.0000           1.3469      -1.0041        1.5849        -1.2381       -0.1719        0.0009        0.6867        2.4639       -0.1938        -0.1258         1.9346         0.2787        -0.7254\n",
            "  0.0000          -0.4601      -1.0041       -0.7428         0.9322       -0.1719       -1.4907       -1.4563        0.8985       -0.1938        -0.1258        -1.6443        -1.5523         0.7051\n",
            "  0.0000          -1.3636      -1.0041        1.5849        -0.8040       -0.1719       -1.4907       -1.4563       -0.6669       -1.5408        -1.4445         0.6379        -0.6977        -0.7254\n",
            "  0.0000          -0.4601       0.9959       -0.1609         0.6428       -0.1719        0.0009        0.6867       -0.6669        1.1533         1.0175        -1.6962         2.4751         0.7253\n",
            "  0.0000          -1.3636      -1.0041       -1.6157         0.4981       -0.1719       -0.4963        0.6867        0.8985       -1.4372        -1.4445         1.2604        -0.2095        -0.6649\n",
            "  0.0000           1.3469       0.9959        1.0030        -1.0934       -0.1719       -1.4907       -1.4563       -0.6669       -0.4010        -0.3017         0.7417         0.7669        -0.6851\n",
            "  0.0000          -1.3636       0.9959       -1.0338         0.2088       -0.1719       -0.4963        0.6867       -0.6669        0.5316         0.5782         0.7935         0.0342         0.8260\n",
            "  0.0000          -1.3636      -1.0041       -1.3248         0.4981       -0.1719        0.4981        0.6867       -0.6669       -1.4372        -1.6203        -1.3331         1.1332        -0.6448\n",
            "Media calculada: [1.00000000e+00 2.50924261e+00 5.02049917e-01 6.55297418e+00\n",
            " 1.15571459e+01 2.86988420e-02 2.99820183e+00 6.79565561e-01\n",
            " 1.42602316e+00 4.97396245e-01 4.76182975e-01 6.27011436e-01\n",
            " 1.89822118e-01 3.60023736e+01 1.54574696e+02 7.52125441e+00\n",
            " 1.25792994e+00 1.96033230e+01 2.89579947e+01 7.06322376e-02\n",
            " 7.53535208e+00 1.71013450e+00 3.56584910e+00 1.31425735e+00\n",
            " 1.25521395e+00 1.60445156e+00 4.56314565e-01 9.69798605e+01\n",
            " 4.18407538e+02 5.02049917e-01 3.27878875e+00 5.77767388e+00\n",
            " 1.48169460e-02 1.50032367e+00 3.40286269e-01 7.08048623e-01\n",
            " 2.53925052e-01 2.42600885e-01 3.06464792e-01 9.49393800e-02\n",
            " 2.16834496e+01 9.72736100e+01 5.47530749e+01 7.56233187e+01\n",
            " 2.00388405e-01 1.97698338e+01 4.44148745e+00 9.35042797e+00\n",
            " 3.39279724e+00 3.24297382e+00 4.21385169e+00 1.18797365e+00\n",
            " 2.48039704e+02 1.08059455e+03 1.81338920e+02 3.27986765e-01\n",
            " 3.46709343e+01 7.85851974e+00 1.63800619e+01 5.93491189e+00\n",
            " 5.66534325e+00 6.87422067e+00 2.30868569e+00 5.19156657e+02\n",
            " 2.17689405e+03 2.86988420e-02 5.34417032e-02 0.00000000e+00\n",
            " 3.90563188e-02 1.33568295e-02 1.27529094e-02 1.77004963e-02\n",
            " 5.54824139e-03 1.24987413e+00 3.18226282e+00 1.30344530e+01\n",
            " 2.07127958e+00 4.28245702e+00 1.49086240e+00 1.42485742e+00\n",
            " 1.86505359e+00 5.72597238e-01 1.11291448e+02 4.70652161e+02\n",
            " 6.79565561e-01 9.81514781e-01 3.42533266e-01 3.27549349e-01\n",
            " 4.27555923e-01 1.27939991e-01 1.73768971e+01 1.14462778e+02\n",
            " 2.44163130e+00 6.96600734e-01 6.67360188e-01 9.45544846e-01\n",
            " 2.72218054e-01 4.64626340e+01 2.08475221e+02 2.84655715e-01\n",
            " 2.69686900e-01 3.09083378e-01 9.38171484e-02 2.23135366e+01\n",
            " 8.66686370e+01 2.56438224e-01 2.96669626e-01 8.90353962e-02\n",
            " 2.10308450e+01 8.22493528e+01 4.30312968e-01 1.12141391e-01\n",
            " 1.92651392e+01 8.88301065e+01 5.09868331e-02 7.36795297e+00\n",
            " 3.07865324e+01 3.75974559e+03 9.37772804e+03 4.70063427e+04]\n",
            "Desviación estandar calculada: [1.00000000e+00 1.10677727e+00 4.99995798e-01 3.43680146e+00\n",
            " 6.91167833e+00 1.66958733e-01 2.01127790e+00 4.66643557e-01\n",
            " 6.38818635e-01 1.93009558e-01 1.72302055e-01 1.92794261e-01\n",
            " 1.22288171e-01 4.96344103e+01 1.52029622e+02 5.62542106e+00\n",
            " 1.47863694e+00 1.53902864e+01 2.28179241e+01 4.59433958e-01\n",
            " 6.43665360e+00 1.48263928e+00 2.35113445e+00 7.54813021e-01\n",
            " 7.01404666e-01 9.12614900e-01 3.61140339e-01 1.44677601e+02\n",
            " 4.91840414e+02 4.99995798e-01 4.07589489e+00 7.55151476e+00\n",
            " 1.20819717e-01 2.06535226e+00 4.73805365e-01 8.30441525e-01\n",
            " 2.85493740e-01 2.68988314e-01 3.33071269e-01 1.28151868e-01\n",
            " 4.59739784e+01 1.57924273e+02 4.60635046e+01 6.45935512e+01\n",
            " 1.34079126e+00 1.82450167e+01 4.14514194e+00 6.91572722e+00\n",
            " 1.97279817e+00 1.84889868e+00 2.68981898e+00 1.04842040e+00\n",
            " 3.71774390e+02 1.29920003e+03 1.64794567e+02 2.24020369e+00\n",
            " 3.41445551e+01 7.84321253e+00 1.28991902e+01 4.46235136e+00\n",
            " 4.16781123e+00 4.72638075e+00 2.16525323e+00 7.56841013e+02\n",
            " 2.44135120e+03 1.66958733e-01 3.95007032e-01 1.00000000e+00\n",
            " 2.46939465e-01 8.53838416e-02 8.07360282e-02 1.07216214e-01\n",
            " 3.86087247e-02 1.22386655e+01 2.67055764e+01 1.25506168e+01\n",
            " 1.82879306e+00 3.64508076e+00 1.20711451e+00 1.12796256e+00\n",
            " 1.41835076e+00 5.91173527e-01 2.30580878e+02 5.96773245e+02\n",
            " 4.66643557e-01 8.60651716e-01 2.83050752e-01 2.65021769e-01\n",
            " 3.34190410e-01 1.33543076e-01 2.66501264e+01 1.58413502e+02\n",
            " 2.35084256e+00 3.93363173e-01 3.64784897e-01 6.37921660e-01\n",
            " 2.33089891e-01 6.60788928e+01 2.25727849e+02 1.95469303e-01\n",
            " 1.78756319e-01 1.44890050e-01 7.19024457e-02 3.42950668e+01\n",
            " 1.00273267e+02 1.64464759e-01 1.33519032e-01 6.71921830e-02\n",
            " 3.20086257e+01 9.35498791e+01 2.41086427e-01 7.53977542e-02\n",
            " 2.53047660e+01 9.15734623e+01 5.93589027e-02 1.28238647e+01\n",
            " 3.97271960e+01 1.06886337e+04 1.74213215e+04 8.98451986e+04]\n"
          ]
        }
      ],
      "source": [
        "# llama featureNormalize con los datos cargados\n",
        "\n",
        "X_norm, mu, sigma = featureNormalize(X_train)\n",
        "\n",
        "print('{:>8s}{:>10s}{:>10s}{:>10s}{:>8s}{:>8s}{:>8s}{:>8s}{:>6s}{:>10s}{:>10s}{:>10s}{:>10s}{:>10s}{:>10s}'.format(\n",
        "    'X_norm[:,0]', '  X_norm[:, 1]', '  X_norm[:, 2]', '  X_norm[:, 3]', '  X_norm[:, 4]', '  X_norm[:, 5]', '  X_norm[:, 6]', '  X_norm[:, 7]', '  X_norm[:, 8]', '  X_norm[:, 9]', '  X_norm[:, 10]', '  X_norm[:, 11]',\n",
        "    '  X_norm[:, 12]', '  X_norm[:, 13]', '.....'\n",
        "))\n",
        "print('-' * 172)\n",
        "\n",
        "for i in range(10):\n",
        "    print('{:8.4f}{:17.4f}{:13.4f}{:14.4f}{:15.4f}{:14.4f}{:14.4f}{:14.4f}{:14.4f}{:14.4f}{:15.4f}{:15.4f}{:15.4f}{:15.4f}'.format(\n",
        "        X_norm[i, 0], \n",
        "        X_norm[i, 1], \n",
        "        X_norm[i, 2], \n",
        "        X_norm[i, 3], \n",
        "        X_norm[i, 4], \n",
        "        X_norm[i, 5], \n",
        "        X_norm[i, 6], \n",
        "        X_norm[i, 7], \n",
        "        X_norm[i, 8], \n",
        "        X_norm[i, 9], \n",
        "        X_norm[i, 10], \n",
        "        X_norm[i, 11],\n",
        "        X_norm[i, 12], \n",
        "        X_norm[i, 13],\n",
        "    ))\n",
        "\n",
        "print('Media calculada:', mu)\n",
        "print('Desviación estandar calculada:', sigma)\n"
      ]
    },
    {
      "cell_type": "markdown",
      "metadata": {
        "id": "eGf0nNXORGH7"
      },
      "source": [
        "### 1.3 Descenso por el gradiente"
      ]
    },
    {
      "cell_type": "markdown",
      "metadata": {
        "id": "vqDWFgsWRGH7"
      },
      "source": [
        "Una vez ya tenido los datos listos y normalizados, se procede al calculo del costo."
      ]
    },
    {
      "cell_type": "markdown",
      "metadata": {
        "id": "Ix5-iR8bRGH7"
      },
      "source": [
        "#### 1.3.1 Cálculo del costo $J(\\theta)$"
      ]
    },
    {
      "cell_type": "code",
      "execution_count": 30,
      "metadata": {},
      "outputs": [],
      "source": [
        "#Creamos la funcion de calcular costo\n",
        "def calcularCosto(X, y, theta):\n",
        "  m = y.size\n",
        "  J = 0\n",
        "  #h = np.dot(X, theta)\n",
        "  # print(h)\n",
        "  J = (1/(2 * m)) * np.sum(np.square(np.dot(X, theta) - y))\n",
        "  return J"
      ]
    },
    {
      "cell_type": "code",
      "execution_count": 31,
      "metadata": {},
      "outputs": [
        {
          "name": "stdout",
          "output_type": "stream",
          "text": [
            "X_norm[:,0]  X_norm[:, 1]  X_norm[:, 2]  X_norm[:, 3]  X_norm[:, 4]  X_norm[:, 5]  X_norm[:, 6]  X_norm[:, 7]  X_norm[:, 8]  X_norm[:, 9]  X_norm[:, 10]  X_norm[:, 11]  X_norm[:, 12]  X_norm[:, 13]  X_norm[:, 14]\n",
            "----------------------------------------------------------------------------------------------------------------------------------------------------------------------------\n",
            "  1.0000           0.0000      -1.3636       -1.0041        -1.6157       -0.0806       -0.1719        1.4925       -1.4563       -0.6669        -1.5408        -1.6203        -0.3994         0.2787        -0.3627\n",
            "  1.0000           0.0000       1.3469       -1.0041         1.0030        0.9322       -0.1719       -0.4963        0.6867       -0.6669         0.1171         0.1382        -1.0737        -0.6977         0.5842\n",
            "  1.0000           0.0000       1.3469       -1.0041         1.5849       -1.2381       -0.1719        0.0009        0.6867        2.4639        -0.1938        -0.1258         1.9346         0.2787        -0.7254\n",
            "  1.0000           0.0000      -0.4601       -1.0041        -0.7428        0.9322       -0.1719       -1.4907       -1.4563        0.8985        -0.1938        -0.1258        -1.6443        -1.5523         0.7051\n",
            "  1.0000           0.0000      -1.3636       -1.0041         1.5849       -0.8040       -0.1719       -1.4907       -1.4563       -0.6669        -1.5408        -1.4445         0.6379        -0.6977        -0.7254\n",
            "  1.0000           0.0000      -0.4601        0.9959        -0.1609        0.6428       -0.1719        0.0009        0.6867       -0.6669         1.1533         1.0175        -1.6962         2.4751         0.7253\n",
            "  1.0000           0.0000      -1.3636       -1.0041        -1.6157        0.4981       -0.1719       -0.4963        0.6867        0.8985        -1.4372        -1.4445         1.2604        -0.2095        -0.6649\n",
            "  1.0000           0.0000       1.3469        0.9959         1.0030       -1.0934       -0.1719       -1.4907       -1.4563       -0.6669        -0.4010        -0.3017         0.7417         0.7669        -0.6851\n",
            "  1.0000           0.0000      -1.3636        0.9959        -1.0338        0.2088       -0.1719       -0.4963        0.6867       -0.6669         0.5316         0.5782         0.7935         0.0342         0.8260\n",
            "  1.0000           0.0000      -1.3636       -1.0041        -1.3248        0.4981       -0.1719        0.4981        0.6867       -0.6669        -1.4372        -1.6203        -1.3331         1.1332        -0.6448\n",
            "Media calculada: [1.00000000e+00 2.50924261e+00 5.02049917e-01 6.55297418e+00\n",
            " 1.15571459e+01 2.86988420e-02 2.99820183e+00 6.79565561e-01\n",
            " 1.42602316e+00 4.97396245e-01 4.76182975e-01 6.27011436e-01\n",
            " 1.89822118e-01 3.60023736e+01 1.54574696e+02 7.52125441e+00\n",
            " 1.25792994e+00 1.96033230e+01 2.89579947e+01 7.06322376e-02\n",
            " 7.53535208e+00 1.71013450e+00 3.56584910e+00 1.31425735e+00\n",
            " 1.25521395e+00 1.60445156e+00 4.56314565e-01 9.69798605e+01\n",
            " 4.18407538e+02 5.02049917e-01 3.27878875e+00 5.77767388e+00\n",
            " 1.48169460e-02 1.50032367e+00 3.40286269e-01 7.08048623e-01\n",
            " 2.53925052e-01 2.42600885e-01 3.06464792e-01 9.49393800e-02\n",
            " 2.16834496e+01 9.72736100e+01 5.47530749e+01 7.56233187e+01\n",
            " 2.00388405e-01 1.97698338e+01 4.44148745e+00 9.35042797e+00\n",
            " 3.39279724e+00 3.24297382e+00 4.21385169e+00 1.18797365e+00\n",
            " 2.48039704e+02 1.08059455e+03 1.81338920e+02 3.27986765e-01\n",
            " 3.46709343e+01 7.85851974e+00 1.63800619e+01 5.93491189e+00\n",
            " 5.66534325e+00 6.87422067e+00 2.30868569e+00 5.19156657e+02\n",
            " 2.17689405e+03 2.86988420e-02 5.34417032e-02 0.00000000e+00\n",
            " 3.90563188e-02 1.33568295e-02 1.27529094e-02 1.77004963e-02\n",
            " 5.54824139e-03 1.24987413e+00 3.18226282e+00 1.30344530e+01\n",
            " 2.07127958e+00 4.28245702e+00 1.49086240e+00 1.42485742e+00\n",
            " 1.86505359e+00 5.72597238e-01 1.11291448e+02 4.70652161e+02\n",
            " 6.79565561e-01 9.81514781e-01 3.42533266e-01 3.27549349e-01\n",
            " 4.27555923e-01 1.27939991e-01 1.73768971e+01 1.14462778e+02\n",
            " 2.44163130e+00 6.96600734e-01 6.67360188e-01 9.45544846e-01\n",
            " 2.72218054e-01 4.64626340e+01 2.08475221e+02 2.84655715e-01\n",
            " 2.69686900e-01 3.09083378e-01 9.38171484e-02 2.23135366e+01\n",
            " 8.66686370e+01 2.56438224e-01 2.96669626e-01 8.90353962e-02\n",
            " 2.10308450e+01 8.22493528e+01 4.30312968e-01 1.12141391e-01\n",
            " 1.92651392e+01 8.88301065e+01 5.09868331e-02 7.36795297e+00\n",
            " 3.07865324e+01 3.75974559e+03 9.37772804e+03 4.70063427e+04] 120\n",
            "Desviación estandar calculada: [1.00000000e+00 1.10677727e+00 4.99995798e-01 3.43680146e+00\n",
            " 6.91167833e+00 1.66958733e-01 2.01127790e+00 4.66643557e-01\n",
            " 6.38818635e-01 1.93009558e-01 1.72302055e-01 1.92794261e-01\n",
            " 1.22288171e-01 4.96344103e+01 1.52029622e+02 5.62542106e+00\n",
            " 1.47863694e+00 1.53902864e+01 2.28179241e+01 4.59433958e-01\n",
            " 6.43665360e+00 1.48263928e+00 2.35113445e+00 7.54813021e-01\n",
            " 7.01404666e-01 9.12614900e-01 3.61140339e-01 1.44677601e+02\n",
            " 4.91840414e+02 4.99995798e-01 4.07589489e+00 7.55151476e+00\n",
            " 1.20819717e-01 2.06535226e+00 4.73805365e-01 8.30441525e-01\n",
            " 2.85493740e-01 2.68988314e-01 3.33071269e-01 1.28151868e-01\n",
            " 4.59739784e+01 1.57924273e+02 4.60635046e+01 6.45935512e+01\n",
            " 1.34079126e+00 1.82450167e+01 4.14514194e+00 6.91572722e+00\n",
            " 1.97279817e+00 1.84889868e+00 2.68981898e+00 1.04842040e+00\n",
            " 3.71774390e+02 1.29920003e+03 1.64794567e+02 2.24020369e+00\n",
            " 3.41445551e+01 7.84321253e+00 1.28991902e+01 4.46235136e+00\n",
            " 4.16781123e+00 4.72638075e+00 2.16525323e+00 7.56841013e+02\n",
            " 2.44135120e+03 1.66958733e-01 3.95007032e-01 1.00000000e+00\n",
            " 2.46939465e-01 8.53838416e-02 8.07360282e-02 1.07216214e-01\n",
            " 3.86087247e-02 1.22386655e+01 2.67055764e+01 1.25506168e+01\n",
            " 1.82879306e+00 3.64508076e+00 1.20711451e+00 1.12796256e+00\n",
            " 1.41835076e+00 5.91173527e-01 2.30580878e+02 5.96773245e+02\n",
            " 4.66643557e-01 8.60651716e-01 2.83050752e-01 2.65021769e-01\n",
            " 3.34190410e-01 1.33543076e-01 2.66501264e+01 1.58413502e+02\n",
            " 2.35084256e+00 3.93363173e-01 3.64784897e-01 6.37921660e-01\n",
            " 2.33089891e-01 6.60788928e+01 2.25727849e+02 1.95469303e-01\n",
            " 1.78756319e-01 1.44890050e-01 7.19024457e-02 3.42950668e+01\n",
            " 1.00273267e+02 1.64464759e-01 1.33519032e-01 6.71921830e-02\n",
            " 3.20086257e+01 9.35498791e+01 2.41086427e-01 7.53977542e-02\n",
            " 2.53047660e+01 9.15734623e+01 5.93589027e-02 1.28238647e+01\n",
            " 3.97271960e+01 1.06886337e+04 1.74213215e+04 8.98451986e+04] 120\n"
          ]
        }
      ],
      "source": [
        "# No olvidarse agregar unos a la matriz de x\n",
        "\n",
        "X_ready = np.concatenate([np.ones((m_train, 1)), X_norm], axis=1)\n",
        "\n",
        "print('{:>8s}{:>10s}{:>10s}{:>10s}{:>8s}{:>8s}{:>8s}{:>8s}{:>6s}{:>10s}{:>10s}{:>10s}{:>10s}{:>10s}{:>10s}'.format(\n",
        "    'X_norm[:,0]', '  X_norm[:, 1]', '  X_norm[:, 2]', '  X_norm[:, 3]', '  X_norm[:, 4]', '  X_norm[:, 5]', '  X_norm[:, 6]', '  X_norm[:, 7]', '  X_norm[:, 8]', '  X_norm[:, 9]', '  X_norm[:, 10]', '  X_norm[:, 11]',\n",
        "    '  X_norm[:, 12]', '  X_norm[:, 13]', '  X_norm[:, 14]'\n",
        "))\n",
        "print('-' * 172)\n",
        "\n",
        "for i in range(10):\n",
        "    print('{:8.4f}{:17.4f}{:13.4f}{:14.4f}{:15.4f}{:14.4f}{:14.4f}{:14.4f}{:14.4f}{:14.4f}{:15.4f}{:15.4f}{:15.4f}{:15.4f}{:15.4f}'.format(\n",
        "        X_ready[i, 0], \n",
        "        X_ready[i, 1], \n",
        "        X_ready[i, 2], \n",
        "        X_ready[i, 3], \n",
        "        X_ready[i, 4], \n",
        "        X_ready[i, 5], \n",
        "        X_ready[i, 6], \n",
        "        X_ready[i, 7], \n",
        "        X_ready[i, 8], \n",
        "        X_ready[i, 9], \n",
        "        X_ready[i, 10], \n",
        "        X_ready[i, 11],\n",
        "        X_ready[i, 12], \n",
        "        X_ready[i, 13],\n",
        "        X_ready[i, 14],\n",
        "    ))\n",
        "\n",
        "print('Media calculada:', mu, len(mu))\n",
        "print('Desviación estandar calculada:', sigma, len(sigma))"
      ]
    },
    {
      "cell_type": "markdown",
      "metadata": {
        "id": "XrS4odNhRGH7"
      },
      "source": [
        "Ejemplo de funcionamiento de la funcion **calcularCosto** con dos valores diferentes de $\\theta$."
      ]
    },
    {
      "cell_type": "code",
      "execution_count": 32,
      "metadata": {
        "id": "n1UcRT94RGH7",
        "outputId": "bc677a02-ef51-4255-bbb2-15bf9d1f3c01"
      },
      "outputs": [
        {
          "name": "stdout",
          "output_type": "stream",
          "text": [
            "121\n",
            "########################################################################################################\n",
            "con theta:[0.6561999  0.14260503 0.0105881  0.50079024 0.93445549 0.81766507\n",
            " 0.35305706 0.95970083 0.0835541  0.60953771 0.92940982 0.61069361\n",
            " 0.0307597  0.32844127 0.47273079 0.00992137 0.54619086 0.64641622\n",
            " 0.81178355 0.87728877 0.96908857 0.97236113 0.07511379 0.91431671\n",
            " 0.80718706 0.9656254  0.43092254 0.65996756 0.11110417 0.65240577\n",
            " 0.96692021 0.94072484 0.16370795 0.45814464 0.28150279 0.14894714\n",
            " 0.42142725 0.37582914 0.30730167 0.56615494 0.74976326 0.4157503\n",
            " 0.73593571 0.9649749  0.1930133  0.55131219 0.15113331 0.23430874\n",
            " 0.75042398 0.2091528  0.02831133 0.61609439 0.64398553 0.26833865\n",
            " 0.85373864 0.59556021 0.65342257 0.4936226  0.88366718 0.74519841\n",
            " 0.59267116 0.29758027 0.97490777 0.21174258 0.51961219 0.44141106\n",
            " 0.01790846 0.9880835  0.96979118 0.23715123 0.27905151 0.5150331\n",
            " 0.78108917 0.22572849 0.4373877  0.88620311 0.75482676 0.43973405\n",
            " 0.79886482 0.02886031 0.21832054 0.54159387 0.82057797 0.41115029\n",
            " 0.13881954 0.24265033 0.81236739 0.92134555 0.75194852 0.80351985\n",
            " 0.36045397 0.46904472 0.09595771 0.03528504 0.21822342 0.64506357\n",
            " 0.36649371 0.33387362 0.80768393 0.50891359 0.7091756  0.74958698\n",
            " 0.93705319 0.88702625 0.86217835 0.85754117 0.36231311 0.9458517\n",
            " 0.71247221 0.30783551 0.25186486 0.78068888 0.16663041 0.77528122\n",
            " 0.24496937 0.37668296 0.71503414 0.82701326 0.13394686 0.00457347\n",
            " 0.90411061] se obtiene un costo de: 31944.179654722804\n",
            "########################################################################################################\n",
            "con theta:[0.18180306 0.57175201 0.81021063 0.71780439 0.53586539 0.32506293\n",
            " 0.18946969 0.31615013 0.44825276 0.78286071 0.29462022 0.11026403\n",
            " 0.43104041 0.95257274 0.37173418 0.11063839 0.68052343 0.7250425\n",
            " 0.68254542 0.19126623 0.49155318 0.38941136 0.96175523 0.27507419\n",
            " 0.45121926 0.8092265  0.90197245 0.42267864 0.90789553 0.96873328\n",
            " 0.31484487 0.43678482 0.640752   0.4683047  0.4293668  0.51475871\n",
            " 0.7460819  0.86542603 0.51557194 0.31908959 0.35768174 0.92947641\n",
            " 0.57577539 0.125424   0.64884666 0.03297735 0.72805435 0.0708833\n",
            " 0.7525377  0.70765135 0.82271835 0.24759935 0.40363102 0.39500399\n",
            " 0.05843138 0.17421139 0.06249043 0.32382937 0.05939406 0.16659883\n",
            " 0.64990646 0.10026646 0.83883147 0.28107386 0.06095627 0.52873312\n",
            " 0.51339756 0.31316119 0.85964168 0.40508258 0.32247805 0.25733654\n",
            " 0.28684321 0.80358596 0.14310724 0.65093881 0.59461495 0.87834497\n",
            " 0.43587319 0.96167621 0.50814919 0.11913782 0.60144769 0.20033159\n",
            " 0.24625142 0.60408295 0.80050512 0.1891962  0.02494517 0.54181428\n",
            " 0.24548207 0.08600453 0.41612367 0.0935495  0.68207867 0.85066585\n",
            " 0.49018656 0.43454339 0.39319014 0.16260598 0.14466086 0.76315239\n",
            " 0.8072613  0.95706111 0.85111884 0.07852827 0.0612125  0.89236288\n",
            " 0.38867142 0.20596736 0.98553604 0.56093594 0.12763914 0.90240084\n",
            " 0.57007561 0.12069325 0.69646587 0.9423996  0.67594891 0.77773705\n",
            " 0.50869314] se obtiene un costo de: 32104.769809632024\n"
          ]
        }
      ],
      "source": [
        "# Generar un vector aleatorio entre 0 y 1 con longitud 190\n",
        "theta = np.random.rand(len(X_ready[1]))\n",
        "theta2 = np.random.rand(len(X_ready[1]))\n",
        "print(theta.shape[0])\n",
        "# theta1=np.array([0.5, 7.0, 0.2])\n",
        "\n",
        "print(f\"########################################################################################################\")\n",
        "print(f\"con theta:{ theta } se obtiene un costo de: {calcularCosto(X_ready, y_train, theta)}\")\n",
        "print(f\"########################################################################################################\")\n",
        "print(f\"con theta:{ theta2 } se obtiene un costo de: {calcularCosto(X_ready, y_train, theta2)}\")"
      ]
    },
    {
      "cell_type": "markdown",
      "metadata": {
        "id": "CH1KmtYGRGH7"
      },
      "source": [
        "#### 1.3.2 Descenso por el gradiente\n",
        "\n",
        "El costo $J(\\theta)$ esta parametrizado por el vector $\\theta$, no $X$ y $y$. Donde hay que minimizar el valor de $J(\\theta)$ cambiando los valores del vector $\\theta$. Una buena manera de verificar si el descenso por el gradiente esta trabajando correctamente es ver los valores de $J(\\theta)$ y verificar si estos decrecen en cada paso."
      ]
    },
    {
      "cell_type": "code",
      "execution_count": 33,
      "metadata": {},
      "outputs": [],
      "source": [
        "#Creamos la funcion para calcular el descenso por Gradiente\n",
        "def calcularDescensoGradiente(X, y, theta, alpha, numero_iteraciones):\n",
        "  m = y.shape[0]\n",
        "  theta = theta.copy()\n",
        "  J_historico = []\n",
        "\n",
        "  for i in range(numero_iteraciones):\n",
        "    theta = theta - (alpha / m) * (np.dot(X, theta) - y).dot(X)\n",
        "    J_historico.append(calcularCosto(X, y, theta))\n",
        "\n",
        "  return theta, J_historico"
      ]
    },
    {
      "cell_type": "markdown",
      "metadata": {
        "id": "SOsn_9atRGH7"
      },
      "source": [
        "Se inicializan los parametros $\\theta$ con 0 y la taza de aprendizaje $\\alpha$ con 0.009."
      ]
    },
    {
      "cell_type": "code",
      "execution_count": 38,
      "metadata": {
        "id": "F2Brxr6bRGH7",
        "outputId": "3e0f8a85-2def-4167-b932-f28267495ef9"
      },
      "outputs": [
        {
          "name": "stdout",
          "output_type": "stream",
          "text": [
            "########################################################################################################\n",
            "Los valores de theta calculados son:\n",
            "theta 1: 189.73710054650599\n",
            "theta 2: 0.0\n",
            "theta 3: 1.377177172495157\n",
            "theta 4: 2.966609334503111\n",
            "theta 5: 1.066315301205466\n",
            "theta 6: 4.518480756868065\n",
            "theta 7: -0.4927722938995303\n",
            "theta 8: -0.021635529200163373\n",
            "theta 9: -0.11466587872668751\n",
            "theta 10: -1.3891301382254861\n",
            "theta 11: 3.9587617171670626\n",
            "theta 12: 3.874436538586864\n",
            "theta 13: -4.720733879498762\n",
            "theta 14: -0.3168903344455304\n",
            "theta 15: 12.884480216130418\n",
            "theta 16: 27.160079385667434\n",
            "theta 17: 0.6785712219493011\n",
            "theta 18: -2.2952589904386675\n",
            "theta 19: 0.9596818341806169\n",
            "theta 20: -0.7218682883291523\n",
            "theta 21: 0.16720218376009668\n",
            "theta 22: -0.7908239785290108\n",
            "theta 23: -0.8541009064166569\n",
            "theta 24: -0.03036928120882627\n",
            "theta 25: -1.5162985680447247\n",
            "theta 26: -1.5673438633160217\n",
            "theta 27: -0.7813103479033785\n",
            "theta 28: -0.9115187323717914\n",
            "theta 29: 3.476370139333374\n",
            "theta 30: 10.062793705075071\n",
            "theta 31: 2.966609334503108\n",
            "theta 32: -2.829023504606879\n",
            "theta 33: 0.18340613101806444\n",
            "theta 34: -0.06747546741964264\n",
            "theta 35: -0.6987983310598747\n",
            "theta 36: -0.19775261199377586\n",
            "theta 37: -0.9803296832805406\n",
            "theta 38: -2.0829826675387575\n",
            "theta 39: -1.6639299432659755\n",
            "theta 40: 0.24326944002870798\n",
            "theta 41: -0.538757183434112\n",
            "theta 42: 1.3615734664536265\n",
            "theta 43: 8.610711964232634\n",
            "theta 44: 0.24761015410811701\n",
            "theta 45: -1.204539547980923\n",
            "theta 46: -0.2691818718178135\n",
            "theta 47: -0.368527745468142\n",
            "theta 48: -0.18284257099380813\n",
            "theta 49: 0.7105577827709055\n",
            "theta 50: -1.7150924638916496\n",
            "theta 51: -1.7872514319494255\n",
            "theta 52: -0.43130166067106007\n",
            "theta 53: -0.4018609223572818\n",
            "theta 54: 2.6060121340448346\n",
            "theta 55: 8.67624087139087\n",
            "theta 56: -3.508866692339516\n",
            "theta 57: 0.23858305258545232\n",
            "theta 58: -0.45932065779754094\n",
            "theta 59: 0.3994137507519603\n",
            "theta 60: -1.1116513026781454\n",
            "theta 61: 0.09371638897811707\n",
            "theta 62: 0.44438072101471093\n",
            "theta 63: -0.5087746673820739\n",
            "theta 64: 0.03686624473128409\n",
            "theta 65: 6.493933245952419\n",
            "theta 66: 10.848338419046176\n",
            "theta 67: -0.4927722938995303\n",
            "theta 68: 0.08588582000775674\n",
            "theta 69: 0.0\n",
            "theta 70: -0.37063087588765015\n",
            "theta 71: -0.21844227888216453\n",
            "theta 72: -0.3353088051342721\n",
            "theta 73: -0.09234141798996254\n",
            "theta 74: -0.049959476226151496\n",
            "theta 75: -0.7227226171011781\n",
            "theta 76: 2.41225228743623\n",
            "theta 77: -0.1395243514100361\n",
            "theta 78: -0.6831596412879422\n",
            "theta 79: -0.16496549254110707\n",
            "theta 80: -0.9779977924669199\n",
            "theta 81: -1.0132246914243697\n",
            "theta 82: 0.07742943508056861\n",
            "theta 83: -0.9711272499197784\n",
            "theta 84: -1.3227600362536462\n",
            "theta 85: 10.605660578849813\n",
            "theta 86: -0.11466587872668682\n",
            "theta 87: 0.021649793529611494\n",
            "theta 88: -1.0731405108822\n",
            "theta 89: -0.9938402994004819\n",
            "theta 90: 0.17588874551911435\n",
            "theta 91: -0.6527681519453672\n",
            "theta 92: -1.8416030543063195\n",
            "theta 93: 15.231272926218367\n",
            "theta 94: -0.5953805348505531\n",
            "theta 95: -1.0222028112606865\n",
            "theta 96: -1.1984865282504216\n",
            "theta 97: 0.3456522478644882\n",
            "theta 98: -0.6327760244037326\n",
            "theta 99: 2.985552566892547\n",
            "theta 100: 11.843008699121548\n",
            "theta 101: -0.5889169912840878\n",
            "theta 102: -0.5286400671659159\n",
            "theta 103: -0.5658177861901426\n",
            "theta 104: -1.0970693087944885\n",
            "theta 105: 5.280737419127185\n",
            "theta 106: 10.630185322180504\n",
            "theta 107: -0.5349980204966766\n",
            "theta 108: -1.120704026712072\n",
            "theta 109: -0.7358296322808757\n",
            "theta 110: 5.821296084856975\n",
            "theta 111: 11.969849354666424\n",
            "theta 112: -2.2910752246388864\n",
            "theta 113: -0.5347659587715031\n",
            "theta 114: 7.765551431927017\n",
            "theta 115: 21.890802250519442\n",
            "theta 116: -0.042959484915183886\n",
            "theta 117: 2.4966598026315157\n",
            "theta 118: 10.381424482593252\n",
            "theta 119: 4.45053370490815\n",
            "theta 120: 3.521904729177089\n",
            "theta 121: 8.337703641327591\n",
            "########################################################################################################\n",
            "con un costo de: 138.5991387221836 \n"
          ]
        }
      ],
      "source": [
        "#creamos un theta con 190 columnas de ceros\n",
        "theta = np.zeros(len(X_ready[1]))\n",
        "\n",
        "#numero de iteraciones sera 1000000 y un alpha 0.00009\n",
        "num_ite = 600\n",
        "alpha = 0.009\n",
        "\n",
        "theta, J_historico = calcularDescensoGradiente(X_ready, y_train, theta, alpha, num_ite)\n",
        "print(\"########################################################################################################\")\n",
        "print(\"Los valores de theta calculados son:\")\n",
        "i = 0\n",
        "for tht in theta:\n",
        "    i += 1\n",
        "    print(f\"theta {i}: {tht}\")\n",
        "\n",
        "\n",
        "print(f\"########################################################################################################\")\n",
        "#mostramos el ultimo costo, este seria el mejor costo\n",
        "print(f\"con un costo de: { J_historico[-1]} \")\n",
        "\n",
        "# print(\"Grafica la convergencia del costo\")\n",
        "# Grafica de la convergencia del costo"
      ]
    },
    {
      "cell_type": "markdown",
      "metadata": {
        "id": "Z7-S3M6TRGH8"
      },
      "source": [
        "Se utilizan los parametros finales para grafica la linea."
      ]
    },
    {
      "cell_type": "markdown",
      "metadata": {
        "id": "zp5CeIcyRGH8"
      },
      "source": [
        "### 1.4 Grafica de la convergencia del costo\n",
        "graficamos el costo"
      ]
    },
    {
      "cell_type": "code",
      "execution_count": 39,
      "metadata": {
        "id": "Tb3et5vsRGH8",
        "outputId": "401776d8-c076-489c-b39a-7207bb424e0d"
      },
      "outputs": [
        {
          "name": "stdout",
          "output_type": "stream",
          "text": [
            "[29152.747598481223, 25509.087127936913, 23070.914616176466, 21377.85722871072, 20149.88013492291, 19216.03345948205, 18471.460042126306, 17851.433704054456, 17315.664870904067, 16838.799669419826, 16404.657788435197, 16002.729441554004, 15626.039057167089, 15269.837154530589, 14930.795121189187, 14606.506197605628, 14295.173559938, 13995.413239413967, 13706.127932837195, 13426.424896212193, 13155.56150285115, 12892.908359411462, 12637.923718898483, 12390.135280892706, 12149.12691332309, 11914.52872208127, 11686.009449665129, 11463.270532287857, 11246.041365796618, 11034.07547267761, 10827.147354984656, 10625.049879422766, 10427.592082308682, 10234.59731073543, 10045.90163639998, 9861.352493015345, 9680.807498826158, 9504.133433657029, 9331.20534592827, 9161.90576970147, 8996.12403543172, 8833.755660958512, 8674.701811546116, 8518.86881961867, 8366.167756323945, 8216.514048275862, 8069.827133826003, 7926.030154041349, 7785.049674253194, 7646.815432616926, 7511.260112604924, 7378.319136762041, 7247.930479398117, 7120.034496185597, 6994.573768881157, 6871.492963605528, 6750.738701300935, 6632.259439145748, 6516.005361844851, 6401.9282818350375, 6289.981547550163, 6180.11995898321, 6072.299689863381, 5966.47821583767, 5862.614248109412, 5760.667672041853, 5660.599490284287, 5562.371770022009, 5465.947593990513, 5371.291014929107, 5278.367013180111, 5187.141457167888, 5097.581066516554, 5009.653377587923, 4923.326711241079, 4838.570142633225, 4755.353472897748, 4673.647202550016, 4593.422506484896, 4514.651210441805, 4437.305768824053, 4361.359243769098, 4286.785285375089, 4213.558112997412, 4141.652497535999, 4071.043744641079, 4001.7076787709457, 3933.6206280409187, 3866.7594098076734, 3801.1013169376824, 3736.624104712678, 3673.305978328873, 3611.12558095015, 3550.061982278562, 3490.0946676084354, 3431.2035273329857, 3373.368846874783, 3316.5712970136524, 3260.791924587576, 3206.0121435440587, 3152.2137263211307, 3099.3787955387115, 3047.489815982472, 2996.529586863697, 2946.4812343398457, 2897.3282042815695, 2849.054255273057, 2801.643451833436, 2755.0801578478645, 2709.349030197748, 2664.4350125802093, 2620.3233295076725, 2576.9994804789817, 2534.4492343140982, 2492.658623644923, 2451.6139395552864, 2411.3017263635975, 2371.708776542063, 2332.822125766764, 2294.629048093247, 2257.117051252607, 2220.2738720633397, 2184.0874719545363, 2148.5460325962354, 2113.6379516330176, 2079.3518385171183, 2045.6765104375818, 2012.6009883421352, 1980.114493048652, 1948.2064414432823, 1916.8664427624033, 1886.0842949557746, 1855.8499811283457, 1826.1536660583208, 1796.9856927892477, 1768.3365792938855, 1740.1970152078397, 1712.5578586309794, 1685.4101329947498, 1658.745023993568, 1632.553876578607, 1606.8281920122995, 1581.5596249819869, 1556.7399807712159, 1532.3612124871786, 1508.4154183429744, 1484.894838993285, 1461.791854922197, 1439.098983881929, 1416.8088783812534, 1394.914323222456, 1373.408233085737, 1352.283650159928, 1331.5337418185284, 1311.1517983400217, 1291.131230671518, 1271.4655682347448, 1252.1484567734972, 1233.1736562416393, 1214.5350387308079, 1196.2265864369735, 1178.242389665035, 1160.5766448706624, 1143.2236527386522, 1126.1778162969713, 1109.4336390658452, 1092.985723241111, 1076.8287679112038, 1060.9575673070526, 1045.3670090842652, 1030.0520726369527, 1015.0078274425402, 1000.229431437032, 985.7121294200246, 971.4512514890025, 957.442211502262, 943.6805055699562, 930.1617105727106, 916.8814827072749, 903.8355560586913, 891.0197411984917, 878.4299238084027, 866.0620633291082, 853.912191633556, 841.9764117243809, 830.2508964549818, 818.7318872737878, 807.4156929913023, 796.2986885695119, 785.3773139331902, 774.6480728027466, 764.1075315481984, 753.752318063856, 743.5791206633677, 733.5846869947294, 723.7658229748936, 714.1193917436216, 704.6423126362251, 695.3315601748376, 686.1841630778865, 677.197203287437, 668.3678150140609, 659.6931837989247, 651.1705455927952, 642.7971858516088, 634.5704386483519, 626.4876858009229, 618.5463560157051, 610.743924046542, 603.0779098688577, 595.5458778686254, 588.1454360459426, 580.8742352329135, 573.7299683255982, 566.7103695297884, 559.8132136203135, 553.0363152136873, 546.3775280538075, 539.8347443104993, 533.4058938906675, 527.088943761803, 520.8818972876704, 514.7827935758992, 508.78970683731535, 502.90074575675334, 497.1140528751935, 491.4278039829676, 485.8402075238669, 480.3495040099543, 474.9539654468648, 469.6518947694371, 464.44162528745716, 459.3215201413644, 454.28997176770866, 449.3454013742095, 444.48625842423087, 439.7110201305025, 435.01819095792547, 430.40630213529397, 425.8739111757802, 421.4196014060163, 417.0419815036234, 412.7396850430349, 408.5113700494684, 404.35571856088563, 400.27143619782197, 396.2572517409218, 392.31191671604483, 388.43420498682093, 384.6229123545047, 380.8768561650062, 377.1948749229628, 373.57582791273796, 370.0185948262061, 366.5220753972155, 363.0851890426026, 359.7068745096365, 356.38608952979376, 353.1218104787294, 349.9130320423451, 346.75876688884546, 343.65804534667114, 340.60991508820257, 337.61344081913063, 334.6677039734059, 331.771802413635, 328.92485013687025, 326.1259769856507, 323.37432836423244, 320.6690649599062, 318.0093624692986, 315.39441132959047, 312.82341645454125, 310.2955969752517, 307.81018598556454, 305.366430292036, 302.96359016837687, 300.6009391143024, 298.27776361869996, 295.9933629270412, 293.7470488129566, 291.53814535390967, 289.3659887108865, 287.22992691203837, 285.1293196401879, 283.06353802415697, 281.03196443382365, 279.033992278858, 277.0690258110525, 275.13647993021, 273.2357799934961, 271.3663616282079, 269.52767054791076, 267.7191623718466, 265.94030244760023, 264.19056567692706, 262.4694363447053, 260.77640795095505, 259.1109830458665, 257.4726730677766, 255.860998184058, 254.2754871348516, 252.7156770796006, 251.18111344633436, 249.6713497836494, 248.1859476153448, 246.72447629766216, 245.28651287907786, 243.87164196261185, 242.47945557060132, 241.10955301189614, 239.7615407514328, 238.4350322821466, 237.1296479991738, 235.84501507631535, 234.58076734470197, 233.33654517364334, 232.11199535360393, 230.90677098127887, 229.7205313467283, 228.55294182253127, 227.40367375492374, 226.27240435689245, 225.15881660317754, 224.06259912715785, 222.98344611958404, 221.92105722912487, 220.87513746469347, 219.84539709952273, 218.83155157696407, 217.83332141796592, 216.85043213021237, 215.88261411889232, 214.92960259905902, 213.9911375095704, 213.06696342855787, 212.15682949041917, 211.26048930429232, 210.37770087399275, 209.5082265193819, 208.65183279914436, 207.80829043495012, 206.9773742369724, 206.15886303074114, 205.3525395853033, 204.55819054267621, 203.77560634855615, 203.0045811842734, 202.24491289996482, 201.49640294894073, 200.75885632323028, 200.0320814902798, 199.31589033078282, 198.61009807762704, 197.91452325593193, 197.22898762415937, 196.55331611628327, 195.88733678498866, 195.2308807458928, 194.5837821227624, 193.94587799371234, 193.31700833836942, 192.6970159859781, 192.08574656444168, 191.4830484502682, 190.8887727194207, 190.30277309904082, 189.7249059200412, 189.15503007054377, 188.5930069501539, 188.0387004250511, 187.49197678388762, 186.95270469447107, 186.42075516122748, 185.89600148342376, 185.37831921413795, 184.86758611996498, 184.36368214144343, 183.86648935419072, 183.37589193073467, 182.89177610302613, 182.41403012562725, 181.94254423955388, 181.47721063676806, 181.01792342530572, 180.56457859502868, 180.11707398398917, 179.67530924539668, 179.2391858151778, 178.80860688011305, 178.3834773465486, 177.96370380966505, 177.5491945232963, 177.13985937029156, 176.73560983340383, 176.33635896670316, 175.94202136749846, 175.55251314876548, 175.1677519120641, 174.7876567209441, 174.41214807482493, 174.0411478833434, 173.67457944116111, 173.31236740322177, 172.9544377604514, 172.6007178158962, 172.2511361612821, 171.9056226540001, 171.56410839449796, 171.22652570408087, 170.89280810310535, 170.56289028956886, 170.23670811807622, 169.9141985791867, 169.59529977912968, 169.2799509198841, 168.96809227961174, 168.659665193443, 168.35461203460724, 168.05287619589794, 167.75440207147167, 167.4591350389721, 167.1670214419744, 166.87800857274266, 166.59204465529731, 166.3090788287835, 166.02906113113997, 165.75194248305706, 165.47767467222394, 165.20621033785676, 164.93750295550345, 164.6715068221209, 164.40817704141958, 164.1474695094683, 163.88934090055926, 163.6337486533241, 163.38065095709865, 163.1300067385326, 162.881775648437, 162.6359180488689, 162.39239500044545, 162.15116824988613, 161.91220021777713, 161.67545398655463, 161.44089328870334, 161.2084824951661, 160.97818660396064, 160.74997122899964, 160.52380258911177, 160.29964749725784, 160.07747334994065, 159.85724811680396, 159.63894033041785, 159.42251907624575, 159.20795398279233, 158.99521521192668, 158.78427344937822, 158.5750998954034, 158.36766625561955, 158.1619447320009, 157.9579080140377, 157.75552927005202, 157.55478213866965, 157.35564072044323, 157.15807956962766, 156.96207368609956, 156.7675985074232, 156.57462990105742, 156.38314415670294, 156.19311797878433, 156.0045284790688, 155.81735316941592, 155.63156995465616, 155.4471571255982, 155.26409335216022, 155.08235767662416, 154.9019295070113, 154.72278861057464, 154.54491510740962, 154.36828946417697, 154.19289248794004, 154.01870532010955, 153.84570943049937, 153.67388661148627, 153.50321897227542, 153.33368893326727, 153.165279220527, 152.99797286034982, 152.83175317392664, 152.66660377210218, 152.50250855022924, 152.33945168311283, 152.17741762004567, 152.01639107993262, 151.85635704650153, 151.69730076359997, 151.53920773057564, 151.38206369774048, 151.22585466191407, 151.0705668620479, 150.91618677492693, 150.76270111094917, 150.61009680997958, 150.45836103727754, 150.30748117949895, 150.15744484076762, 150.00823983881858, 149.8598542012089, 149.71227616159658, 149.56549415608717, 149.4194968196428, 149.27427298255802, 149.12981166699788, 148.98610208359628, 148.84313362811753, 148.70089587817517, 148.55937859001105, 148.41857169533108, 148.2784652981975, 148.1390496719768, 148.00031525634256, 147.86225265433038, 147.7248526294471, 147.58810610283035, 147.45200415045935, 147.31653800041505, 147.18169903019023, 147.04747876404576, 146.91386887041605, 146.78086115935932, 146.6484475800536, 146.51662021833837, 146.385371294299, 146.25469315989403, 146.12457829662637, 145.9950193132543, 145.86600894354436, 145.73754004406356, 145.60960559201172, 145.48219868309212, 145.35531252941976, 145.22894045746744, 145.1030759060482, 144.977712424334, 144.85284366990925, 144.7284634068593, 144.6045655038932, 144.4811439324995, 144.35819276513513, 144.23570617344686, 144.11367842652362, 143.99210388918104, 143.8709770202755, 143.7502923710491, 143.63004458350355, 143.51022838880328, 143.39083860570676, 143.27187013902605, 143.15331797811388, 143.03517719537695, 142.91744294481663, 142.800110460595, 142.6831750556268, 142.56663212019618, 142.4504771205981, 142.33470559780434, 142.21931316615263, 142.1042955120595, 141.98964839275573, 141.87536763504485, 141.7614491340832, 141.6478888521823, 141.53468281763105, 141.42182712354116, 141.30931792671146, 141.1971514465124, 141.08532396379175, 140.9738318197981, 140.86267141512462, 140.7518392086712, 140.64133171662513, 140.5311455114597, 140.42127722095105, 140.31172352721183, 140.20248116574305, 140.0935469245013, 139.98491764298393, 139.87659021133007, 139.76856156943714, 139.66082870609358, 139.55338865812686, 139.44623850956648, 139.33937539082206, 139.23279647787572, 139.1264989914894, 139.02048019642524, 138.91473740068102, 138.80926795473803, 138.7040692508232, 138.5991387221836]\n"
          ]
        },
        {
          "data": {
            "text/plain": [
              "Text(0, 0.5, 'Costo J')"
            ]
          },
          "execution_count": 39,
          "metadata": {},
          "output_type": "execute_result"
        },
        {
          "data": {
            "image/png": "[encoded data removed]",
            "text/plain": [
              "<Figure size 640x480 with 1 Axes>"
            ]
          },
          "metadata": {},
          "output_type": "display_data"
        }
      ],
      "source": [
        "pyplot.plot(np.arange(len(J_historico)), J_historico, lw=2)\n",
        "print(J_historico)\n",
        "pyplot.title(\"Grafica de la convergencia del costo de Polinomica\")\n",
        "pyplot.xlabel('Numero de iteraciones')\n",
        "pyplot.ylabel('Costo J')"
      ]
    },
    {
      "cell_type": "markdown",
      "metadata": {
        "id": "h8R6414gRGH8"
      },
      "source": [
        "### 1.5 Grafica de la regresion Polinomica"
      ]
    },
    {
      "cell_type": "code",
      "execution_count": 40,
      "metadata": {},
      "outputs": [],
      "source": [
        "# Creamos una funcion que nos ayude con las graficas de cada dato respecto a la Y predicha\n",
        "def graficarDatos(x, y, xlabel, ylabel):\n",
        "  fig = pyplot.figure()\n",
        "  pyplot.plot(x, y, 'ro', ms=10, mec='k')\n",
        "\n",
        "  pyplot.xlabel(xlabel)\n",
        "  pyplot.ylabel(ylabel)"
      ]
    },
    {
      "cell_type": "code",
      "execution_count": 75,
      "metadata": {
        "id": "_rvaYgX9RGH8",
        "outputId": "18702aad-953a-4d06-b788-46bde8fa587b"
      },
      "outputs": [
        {
          "data": {
            "text/plain": [
              "<matplotlib.legend.Legend at 0x2369d7ebe90>"
            ]
          },
          "execution_count": 75,
          "metadata": {},
          "output_type": "execute_result"
        },
        {
          "data": {
            "image/png": "[encoded data removed]",
            "text/plain": [
              "<Figure size 640x480 with 1 Axes>"
            ]
          },
          "metadata": {},
          "output_type": "display_data"
        }
      ],
      "source": [
        "graficarDatos(X_ready[:, 14], y_train , 'xlabel13', 'xlabel14')\n",
        "\n",
        "pyplot.plot(X_ready[:,14], np.dot(X_ready, theta), '-')\n",
        "\n",
        "pyplot.legend(['Datos de entrenamiento', 'regresion lineal'])"
      ]
    },
    {
      "cell_type": "markdown",
      "metadata": {
        "id": "tm_3ZgzTRGH8"
      },
      "source": [
        "### 1.6 Ejemplos de Predicciones\n",
        "Se creo una matriz con 5 ejemplos, donde se hace las predicciones correpondientes:"
      ]
    },
    {
      "cell_type": "markdown",
      "metadata": {
        "id": "ivdw3FwgRGH8"
      },
      "source": [
        "\n"
      ]
    },
    {
      "cell_type": "code",
      "execution_count": 83,
      "metadata": {
        "id": "7uZ5FBHtRGH9",
        "outputId": "2d12c2e3-0905-4acf-f418-89e0cadd66b9"
      },
      "outputs": [
        {
          "name": "stdout",
          "output_type": "stream",
          "text": [
            "120\n",
            "120\n",
            "+----------+------+--------+------+-----------+-----------+--------------+--------------+--------+---------+-------+-------------+----------+--------------+---------+\n",
            "|   season |   yr |   mnth |   hr |   holiday |   weekday |   workingday |   weathersit |   temp |   atemp |   hum |   windspeed |   casual |   registered |     cnt |\n",
            "+==========+======+========+======+===========+===========+==============+==============+========+=========+=======+=============+==========+==============+=========+\n",
            "|        4 |    1 |     12 |   12 |         0 |         1 |            1 |            3 |   0.44 |  0.4394 |  1    |      0.2239 |       23 |          150 | 167.957 |\n",
            "+----------+------+--------+------+-----------+-----------+--------------+--------------+--------+---------+-------+-------------+----------+--------------+---------+\n",
            "|        4 |    1 |     12 |   13 |         0 |         1 |            1 |            3 |   0.44 |  0.4394 |  1    |      0.2239 |       30 |          190 | 223.184 |\n",
            "+----------+------+--------+------+-----------+-----------+--------------+--------------+--------+---------+-------+-------------+----------+--------------+---------+\n",
            "|        4 |    1 |     12 |   14 |         0 |         1 |            1 |            2 |   0.5  |  0.4848 |  0.94 |      0.2239 |       31 |          179 | 208.623 |\n",
            "+----------+------+--------+------+-----------+-----------+--------------+--------------+--------+---------+-------+-------------+----------+--------------+---------+\n",
            "|        4 |    1 |     12 |   15 |         0 |         1 |            1 |            2 |   0.5  |  0.4848 |  0.87 |      0.1642 |       29 |          207 | 237.514 |\n",
            "+----------+------+--------+------+-----------+-----------+--------------+--------------+--------+---------+-------+-------------+----------+--------------+---------+\n",
            "|        4 |    1 |     12 |   16 |         0 |         1 |            1 |            2 |   0.5  |  0.4848 |  0.88 |      0.1045 |       37 |          308 | 357.39  |\n",
            "+----------+------+--------+------+-----------+-----------+--------------+--------------+--------+---------+-------+-------------+----------+--------------+---------+\n"
          ]
        }
      ],
      "source": [
        "#Creamos la matriz con 11 ejemplos para hacer la prueba predecir una hora de cada ejemplo:\n",
        "matriz_datos = np.array([\n",
        "[4,1,12,12,0,1,1,3,0.44,0.4394,1,0.2239,23,150],\n",
        "[4,1,12,13,0,1,1,3,0.44,0.4394,1,0.2239,30,190],\n",
        "[4,1,12,14,0,1,1,2,0.5,0.4848,0.94,0.2239,31,179],\n",
        "[4,1,12,15,0,1,1,2,0.5,0.4848,0.87,0.1642,29,207],\n",
        "[4,1,12,16,0,1,1,2,0.5,0.4848,0.88,0.1045,37,308],\n",
        "])\n",
        "\n",
        "# Creamos un vector para almacenar cada Y predicha\n",
        "y_pre = []\n",
        "\n",
        "# Copiamos la matriz de datos para preservar la original\n",
        "matriz_datos_copy = matriz_datos.copy()\n",
        "\n",
        "# Aplicamos la transformación polinómica, no agregamos unos, porque por defecto PolynomialFeatures lo llena de 1\n",
        "poly_test = PolynomialFeatures(degree=2)\n",
        "matriz_datos_poli = poly_test.fit_transform(matriz_datos)\n",
        "\n",
        "matriz_datos_poli = np.concatenate([np.ones((matriz_datos_poli.shape[0], 1)), matriz_datos_poli], axis=1)\n",
        "\n",
        "print(len(mu))\n",
        "print(len(sigma))\n",
        "\n",
        "# Normalizamos todos, menos el primer valor de cada ejemplo\n",
        "for datos in matriz_datos_poli:\n",
        "    datos[1:] = (datos[1:] - mu) / sigma\n",
        "\n",
        "# Calculamos la Y predicha de los 11 ejemplos de predicción\n",
        "for datos in matriz_datos_poli:\n",
        "    y_pre.append(np.dot(datos, theta))\n",
        "\n",
        "\n",
        "# Añadimos la columna de Y predicha a la matriz original\n",
        "matriz_datos_copy = np.column_stack((matriz_datos_copy, y_pre))\n",
        "\n",
        "# Nombres de columnas\n",
        "nombres_columnas = ['season','yr','mnth','hr','holiday','weekday','workingday','weathersit','temp','atemp','hum','windspeed','casual','registered','cnt']\n",
        "\n",
        "# Convertir la matriz en una lista de listas\n",
        "datos_para_tabla = matriz_datos_copy.tolist()\n",
        "\n",
        "# Imprimir la tabla\n",
        "print(tabulate(datos_para_tabla, headers=nombres_columnas, tablefmt='grid'))\n"
      ]
    },
    {
      "cell_type": "markdown",
      "metadata": {
        "id": "0vkUWTgqRGH9"
      },
      "source": [
        "### 1.7 Validaciones\n",
        "Para hacer las validaciones correspondientes, se hizo el uso **Mean squeared error**\n",
        "\n",
        "Siguiendo el consejo de 80/20, donde 80% es para la fase de entrenamiento, y 20% es para la fase de prueba."
      ]
    },
    {
      "cell_type": "code",
      "execution_count": 84,
      "metadata": {},
      "outputs": [],
      "source": [
        "#Creamos la funcion:\n",
        "def mean_squared_error(y_pred, y_actual):\n",
        "    resta = y_pred - y_actual\n",
        "    err_cuadrado = np.sum(resta ** 2)\n",
        "    return err_cuadrado / len(y_pre)\n"
      ]
    },
    {
      "cell_type": "markdown",
      "metadata": {
        "id": "YVpS-_GDRGH9"
      },
      "source": [
        "#### 1.7.1 haciendo calculo del error cuadratico medio"
      ]
    },
    {
      "cell_type": "code",
      "execution_count": 96,
      "metadata": {
        "id": "IF8x8JKhRGH9",
        "outputId": "f15da71a-7b41-47d9-f4bf-8ea6047d5a51"
      },
      "outputs": [
        {
          "name": "stdout",
          "output_type": "stream",
          "text": [
            "Error Cuadrático Medio (MSE) = 189042.4811937156\n",
            "Raíz del Error Cuadrático Medio (RMSE) = 434.7901576550642\n"
          ]
        }
      ],
      "source": [
        "#haciendo x_test que es el 20% restante\n",
        "m = len(y_test)\n",
        "\n",
        "# Aplicamos la transformación polinómica, no agregamos unos, porque por defecto PolynomialFeatures lo llena de 1\n",
        "poly_test = PolynomialFeatures(degree=2)\n",
        "datos_poli_test = poly_test.fit_transform(x_test)\n",
        "\n",
        "#añadimos los unos\n",
        "datos_test = np.concatenate([np.ones((datos_poli_test.shape[0], 1)), datos_poli_test], axis=1)\n",
        "\n",
        "# Normalizamos todos, menos el primer valor de cada ejemplo porque este contiene los unos\n",
        "for datos in datos_test:\n",
        "    datos[1:] = (datos[1:] - mu) / sigma\n",
        "\n",
        "#creamos un array que almacenara cada una de las y_predicha\n",
        "y_predicha = []\n",
        "\n",
        "for data_test_ready in datos_test:\n",
        "    y_predicha.append(np.dot(data_test_ready, theta))\n",
        "\n",
        "mse = mean_squared_error(y_predicha, y_test)\n",
        "#calculamos el error cuadratico medio:\n",
        "print('Error Cuadrático Medio (MSE) = ' + str(mse))\n",
        "print('Raíz del Error Cuadrático Medio (RMSE) = ' + str(np.sqrt(mse)))"
      ]
    }
  ],
  "metadata": {
    "colab": {
      "provenance": [],
      "toc_visible": true
    },
    "kernelspec": {
      "display_name": "Python 3",
      "language": "python",
      "name": "python3"
    },
    "language_info": {
      "codemirror_mode": {
        "name": "ipython",
        "version": 3
      },
      "file_extension": ".py",
      "mimetype": "text/x-python",
      "name": "python",
      "nbconvert_exporter": "python",
      "pygments_lexer": "ipython3",
      "version": "3.12.2"
    }
  },
  "nbformat": 4,
  "nbformat_minor": 0
}
