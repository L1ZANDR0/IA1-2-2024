{
  "cells": [
    {
      "cell_type": "markdown",
      "metadata": {
        "id": "1-sXu98nRGHs"
      },
      "source": [
        "\n",
        "# Laboratorio 2(Ecuacion de la normal) Grupo 2\n",
        " <h3>Implementacion de Ecuacion de la normal para entrenar el modelo, y realizar las respectivas predicciones.<h3>\n",
        " <HR>\n",
        " <h3>\n",
        "  NOMBRE: <Name>MAMANI RAMOS LIZANDRO<br>\n",
        "  CARRERA: <Carrera> INGENIERIA DE SISTEMAS <BR>\n",
        "  FECHA: <Current> 26/08/2024<BR>\n",
        "\n",
        "  * [Enlace al git hub](https://github.com/L1ZANDR0/IA1-2-2024/tree/main/LABORATORIOS/Laboratorio2)\n",
        "  \n",
        " <h3>"
      ]
    },
    {
      "cell_type": "markdown",
      "metadata": {},
      "source": [
        "Para el laboratorio hizo uso del dataset para La cantidad de bicicletas que pasan al alquiler por hora entre los años 2011 y 2012.el enlace al dataset es [Bike Sharing Dataset](https://www.kaggle.com/datasets/lakshmi25npathi/bike-sharing-dataset).\n",
        "\n",
        "El archivo `hour.csv` contiene un conjunto de entrenamiento con las siguientes caracteristicas:\n",
        "\n",
        "\n",
        "**Especificación de cada variable de entrada.-**\n",
        "\n",
        "- instant.- El instante en que pase.\n",
        "- dteday.- fecha del registro\n",
        "- season.- la temporada del registro\n",
        "- yr.- el año\n",
        "- mnth.- el mes del registro\n",
        "- h.- hora del registro\n",
        "- holiday.- Si es vacaciones o no\n",
        "- weekday.- dia de la semana\n",
        "- workingda.- si es dia de trabajo\n",
        "- weathersit.- situacion meteorologica\n",
        "- temp.- temperatura\n",
        "- atemp.- Temperatura normalizada en grados Celsius. Los valores se dividen en 50 (máximo).\n",
        "- hum.- Humedad normalizada. Los valores se dividen entre 100 (max)\n",
        "- windspeed.- Velocidad del viento normalizada. Los valores se dividen en 67 (máx.)\n",
        "- casual.- recuento de usuarios ocasionales\n",
        "- registered.- recuento de usuarios registrados\n",
        "\n",
        "**Especificación de la variable de salida.-**\n",
        "- cnt.- recuento total de bicicletas de alquiler, incluidas las ocasionales y registradas\n",
        "\n",
        "\n"
      ]
    },
    {
      "cell_type": "markdown",
      "metadata": {
        "id": "YFubnhHWRGH9"
      },
      "source": [
        "## 3. Ecuacion de la normal"
      ]
    },
    {
      "cell_type": "code",
      "execution_count": 1,
      "metadata": {},
      "outputs": [],
      "source": [
        "# utilizando la libreria os para manejos de directorios\n",
        "import os\n",
        "\n",
        "# Computacion vectorial y cientifica para python\n",
        "import numpy as np\n",
        "\n",
        "#importamos pandas para el manejo del dataset, y separarlos dentro de una matriz\n",
        "import pandas as pd\n",
        "\n",
        "#esta tabulate nos sirve para hacer tablas\n",
        "from tabulate import tabulate\n",
        "\n",
        "# Librerias para graficación (trazado de gráficos)\n",
        "from matplotlib import pyplot\n",
        "from mpl_toolkits.mplot3d import Axes3D  # -> Necesario para graficar superficies 3D\n",
        "\n",
        "#Para separa el 20% y 80%\n",
        "from sklearn.model_selection import train_test_split\n",
        "\n",
        "# llama a matplotlib a embeber graficas dentro de los cuadernillos\n",
        "%matplotlib inline\n"
      ]
    },
    {
      "cell_type": "markdown",
      "metadata": {
        "id": "QRpGJD-yRGH9"
      },
      "source": [
        "Hacemos uso de la funcion de la Normal, haremos uso de los datos cargados en X para garantizar que las variables no esten modificadas, se debe agregar la columna de unos a la matriz $X$ para tener el termino de intersección"
      ]
    },
    {
      "cell_type": "code",
      "execution_count": 2,
      "metadata": {
        "id": "BnNmlxfcRGH-"
      },
      "outputs": [],
      "source": [
        "def calcularThethaEcuacionNormal(X, y):\n",
        "    theta = np.zeros(X.shape[1])\n",
        "\n",
        "    theta = np.dot(np.dot(np.linalg.inv(np.dot(np.transpose(X),X)),np.transpose(X)),y)\n",
        "\n",
        "    return theta"
      ]
    },
    {
      "cell_type": "markdown",
      "metadata": {
        "id": "vY1yPeyARGH-"
      },
      "source": [
        "### 3.1 Agregando la columna de unos a la matriz $X$ para tener el termino de intersección"
      ]
    },
    {
      "cell_type": "code",
      "execution_count": 3,
      "metadata": {
        "id": "Mc8LIjLXRGH-",
        "outputId": "5e5609eb-ed22-4593-c64d-4af095f5b673"
      },
      "outputs": [
        {
          "name": "stdout",
          "output_type": "stream",
          "text": [
            "La cantidad de caracteristicas es: 15\n",
            "la cantidad de ejemplos es: 13903\n",
            "La cantidad de ejemplos del 80% es: 13903\n",
            "La cantidad de ejemplos del 20% es: 3476\n"
          ]
        },
        {
          "data": {
            "text/html": [
              "<div>\n",
              "<style scoped>\n",
              "    .dataframe tbody tr th:only-of-type {\n",
              "        vertical-align: middle;\n",
              "    }\n",
              "\n",
              "    .dataframe tbody tr th {\n",
              "        vertical-align: top;\n",
              "    }\n",
              "\n",
              "    .dataframe thead th {\n",
              "        text-align: right;\n",
              "    }\n",
              "</style>\n",
              "<table border=\"1\" class=\"dataframe\">\n",
              "  <thead>\n",
              "    <tr style=\"text-align: right;\">\n",
              "      <th></th>\n",
              "      <th>season</th>\n",
              "      <th>yr</th>\n",
              "      <th>mnth</th>\n",
              "      <th>hr</th>\n",
              "      <th>holiday</th>\n",
              "      <th>weekday</th>\n",
              "      <th>workingday</th>\n",
              "      <th>weathersit</th>\n",
              "      <th>temp</th>\n",
              "      <th>atemp</th>\n",
              "      <th>hum</th>\n",
              "      <th>windspeed</th>\n",
              "      <th>casual</th>\n",
              "      <th>registered</th>\n",
              "      <th>cnt</th>\n",
              "    </tr>\n",
              "  </thead>\n",
              "  <tbody>\n",
              "    <tr>\n",
              "      <th>0</th>\n",
              "      <td>1.0</td>\n",
              "      <td>0.0</td>\n",
              "      <td>1.0</td>\n",
              "      <td>0.0</td>\n",
              "      <td>0.0</td>\n",
              "      <td>6.0</td>\n",
              "      <td>0.0</td>\n",
              "      <td>1.0</td>\n",
              "      <td>0.24</td>\n",
              "      <td>0.2879</td>\n",
              "      <td>0.81</td>\n",
              "      <td>0.0000</td>\n",
              "      <td>3.0</td>\n",
              "      <td>13.0</td>\n",
              "      <td>16.0</td>\n",
              "    </tr>\n",
              "    <tr>\n",
              "      <th>1</th>\n",
              "      <td>1.0</td>\n",
              "      <td>0.0</td>\n",
              "      <td>1.0</td>\n",
              "      <td>1.0</td>\n",
              "      <td>0.0</td>\n",
              "      <td>6.0</td>\n",
              "      <td>0.0</td>\n",
              "      <td>1.0</td>\n",
              "      <td>0.22</td>\n",
              "      <td>0.2727</td>\n",
              "      <td>0.80</td>\n",
              "      <td>0.0000</td>\n",
              "      <td>8.0</td>\n",
              "      <td>32.0</td>\n",
              "      <td>40.0</td>\n",
              "    </tr>\n",
              "    <tr>\n",
              "      <th>2</th>\n",
              "      <td>1.0</td>\n",
              "      <td>0.0</td>\n",
              "      <td>1.0</td>\n",
              "      <td>2.0</td>\n",
              "      <td>0.0</td>\n",
              "      <td>6.0</td>\n",
              "      <td>0.0</td>\n",
              "      <td>1.0</td>\n",
              "      <td>0.22</td>\n",
              "      <td>0.2727</td>\n",
              "      <td>0.80</td>\n",
              "      <td>0.0000</td>\n",
              "      <td>5.0</td>\n",
              "      <td>27.0</td>\n",
              "      <td>32.0</td>\n",
              "    </tr>\n",
              "    <tr>\n",
              "      <th>3</th>\n",
              "      <td>1.0</td>\n",
              "      <td>0.0</td>\n",
              "      <td>1.0</td>\n",
              "      <td>3.0</td>\n",
              "      <td>0.0</td>\n",
              "      <td>6.0</td>\n",
              "      <td>0.0</td>\n",
              "      <td>1.0</td>\n",
              "      <td>0.24</td>\n",
              "      <td>0.2879</td>\n",
              "      <td>0.75</td>\n",
              "      <td>0.0000</td>\n",
              "      <td>3.0</td>\n",
              "      <td>10.0</td>\n",
              "      <td>13.0</td>\n",
              "    </tr>\n",
              "    <tr>\n",
              "      <th>4</th>\n",
              "      <td>1.0</td>\n",
              "      <td>0.0</td>\n",
              "      <td>1.0</td>\n",
              "      <td>4.0</td>\n",
              "      <td>0.0</td>\n",
              "      <td>6.0</td>\n",
              "      <td>0.0</td>\n",
              "      <td>1.0</td>\n",
              "      <td>0.24</td>\n",
              "      <td>0.2879</td>\n",
              "      <td>0.75</td>\n",
              "      <td>0.0000</td>\n",
              "      <td>0.0</td>\n",
              "      <td>1.0</td>\n",
              "      <td>1.0</td>\n",
              "    </tr>\n",
              "    <tr>\n",
              "      <th>...</th>\n",
              "      <td>...</td>\n",
              "      <td>...</td>\n",
              "      <td>...</td>\n",
              "      <td>...</td>\n",
              "      <td>...</td>\n",
              "      <td>...</td>\n",
              "      <td>...</td>\n",
              "      <td>...</td>\n",
              "      <td>...</td>\n",
              "      <td>...</td>\n",
              "      <td>...</td>\n",
              "      <td>...</td>\n",
              "      <td>...</td>\n",
              "      <td>...</td>\n",
              "      <td>...</td>\n",
              "    </tr>\n",
              "    <tr>\n",
              "      <th>17374</th>\n",
              "      <td>1.0</td>\n",
              "      <td>1.0</td>\n",
              "      <td>12.0</td>\n",
              "      <td>19.0</td>\n",
              "      <td>0.0</td>\n",
              "      <td>1.0</td>\n",
              "      <td>1.0</td>\n",
              "      <td>2.0</td>\n",
              "      <td>0.26</td>\n",
              "      <td>0.2576</td>\n",
              "      <td>0.60</td>\n",
              "      <td>0.1642</td>\n",
              "      <td>11.0</td>\n",
              "      <td>108.0</td>\n",
              "      <td>119.0</td>\n",
              "    </tr>\n",
              "    <tr>\n",
              "      <th>17375</th>\n",
              "      <td>1.0</td>\n",
              "      <td>1.0</td>\n",
              "      <td>12.0</td>\n",
              "      <td>20.0</td>\n",
              "      <td>0.0</td>\n",
              "      <td>1.0</td>\n",
              "      <td>1.0</td>\n",
              "      <td>2.0</td>\n",
              "      <td>0.26</td>\n",
              "      <td>0.2576</td>\n",
              "      <td>0.60</td>\n",
              "      <td>0.1642</td>\n",
              "      <td>8.0</td>\n",
              "      <td>81.0</td>\n",
              "      <td>89.0</td>\n",
              "    </tr>\n",
              "    <tr>\n",
              "      <th>17376</th>\n",
              "      <td>1.0</td>\n",
              "      <td>1.0</td>\n",
              "      <td>12.0</td>\n",
              "      <td>21.0</td>\n",
              "      <td>0.0</td>\n",
              "      <td>1.0</td>\n",
              "      <td>1.0</td>\n",
              "      <td>1.0</td>\n",
              "      <td>0.26</td>\n",
              "      <td>0.2576</td>\n",
              "      <td>0.60</td>\n",
              "      <td>0.1642</td>\n",
              "      <td>7.0</td>\n",
              "      <td>83.0</td>\n",
              "      <td>90.0</td>\n",
              "    </tr>\n",
              "    <tr>\n",
              "      <th>17377</th>\n",
              "      <td>1.0</td>\n",
              "      <td>1.0</td>\n",
              "      <td>12.0</td>\n",
              "      <td>22.0</td>\n",
              "      <td>0.0</td>\n",
              "      <td>1.0</td>\n",
              "      <td>1.0</td>\n",
              "      <td>1.0</td>\n",
              "      <td>0.26</td>\n",
              "      <td>0.2727</td>\n",
              "      <td>0.56</td>\n",
              "      <td>0.1343</td>\n",
              "      <td>13.0</td>\n",
              "      <td>48.0</td>\n",
              "      <td>61.0</td>\n",
              "    </tr>\n",
              "    <tr>\n",
              "      <th>17378</th>\n",
              "      <td>1.0</td>\n",
              "      <td>1.0</td>\n",
              "      <td>12.0</td>\n",
              "      <td>23.0</td>\n",
              "      <td>0.0</td>\n",
              "      <td>1.0</td>\n",
              "      <td>1.0</td>\n",
              "      <td>1.0</td>\n",
              "      <td>0.26</td>\n",
              "      <td>0.2727</td>\n",
              "      <td>0.65</td>\n",
              "      <td>0.1343</td>\n",
              "      <td>12.0</td>\n",
              "      <td>37.0</td>\n",
              "      <td>49.0</td>\n",
              "    </tr>\n",
              "  </tbody>\n",
              "</table>\n",
              "<p>17379 rows × 15 columns</p>\n",
              "</div>"
            ],
            "text/plain": [
              "       season   yr  mnth    hr  holiday  weekday  workingday  weathersit  \\\n",
              "0         1.0  0.0   1.0   0.0      0.0      6.0         0.0         1.0   \n",
              "1         1.0  0.0   1.0   1.0      0.0      6.0         0.0         1.0   \n",
              "2         1.0  0.0   1.0   2.0      0.0      6.0         0.0         1.0   \n",
              "3         1.0  0.0   1.0   3.0      0.0      6.0         0.0         1.0   \n",
              "4         1.0  0.0   1.0   4.0      0.0      6.0         0.0         1.0   \n",
              "...       ...  ...   ...   ...      ...      ...         ...         ...   \n",
              "17374     1.0  1.0  12.0  19.0      0.0      1.0         1.0         2.0   \n",
              "17375     1.0  1.0  12.0  20.0      0.0      1.0         1.0         2.0   \n",
              "17376     1.0  1.0  12.0  21.0      0.0      1.0         1.0         1.0   \n",
              "17377     1.0  1.0  12.0  22.0      0.0      1.0         1.0         1.0   \n",
              "17378     1.0  1.0  12.0  23.0      0.0      1.0         1.0         1.0   \n",
              "\n",
              "       temp   atemp   hum  windspeed  casual  registered    cnt  \n",
              "0      0.24  0.2879  0.81     0.0000     3.0        13.0   16.0  \n",
              "1      0.22  0.2727  0.80     0.0000     8.0        32.0   40.0  \n",
              "2      0.22  0.2727  0.80     0.0000     5.0        27.0   32.0  \n",
              "3      0.24  0.2879  0.75     0.0000     3.0        10.0   13.0  \n",
              "4      0.24  0.2879  0.75     0.0000     0.0         1.0    1.0  \n",
              "...     ...     ...   ...        ...     ...         ...    ...  \n",
              "17374  0.26  0.2576  0.60     0.1642    11.0       108.0  119.0  \n",
              "17375  0.26  0.2576  0.60     0.1642     8.0        81.0   89.0  \n",
              "17376  0.26  0.2576  0.60     0.1642     7.0        83.0   90.0  \n",
              "17377  0.26  0.2727  0.56     0.1343    13.0        48.0   61.0  \n",
              "17378  0.26  0.2727  0.65     0.1343    12.0        37.0   49.0  \n",
              "\n",
              "[17379 rows x 15 columns]"
            ]
          },
          "execution_count": 3,
          "metadata": {},
          "output_type": "execute_result"
        }
      ],
      "source": [
        "data = pd.read_csv('hour.csv', delimiter=',')\n",
        "\n",
        "#retiramos el instant y la dteday del las columnas, quitamos el precio ya que ira a el vector Y, tambien quitamos los titulos\n",
        "dataset = data.drop(['instant', 'dteday'], axis=1).astype(float)\n",
        "\n",
        "train_dataset, test_dataset = train_test_split(dataset, test_size=0.2, random_state=42)\n",
        "\n",
        "x_test = test_dataset.drop(['cnt'], axis=1).values\n",
        "y_test = test_dataset['cnt'].values\n",
        "\n",
        "# Seleccionamos las columnas para X y la columna 'price' para y\n",
        "x_train = train_dataset.drop(['cnt'], axis=1).values\n",
        "y_train = train_dataset['cnt'].values\n",
        "m_train = len(y_train)\n",
        "\n",
        "# Ahora, X y y deberían contener datos numéricos del 80% del dataset\n",
        "\n",
        "print(f'La cantidad de caracteristicas es: {dataset.shape[1]}')\n",
        "print(f'la cantidad de ejemplos es: {y_train.shape[0]}')\n",
        "print(f'La cantidad de ejemplos del 80% es: {len(train_dataset)}')\n",
        "print(f'La cantidad de ejemplos del 20% es: {len(test_dataset)}')\n",
        "dataset"
      ]
    },
    {
      "cell_type": "markdown",
      "metadata": {},
      "source": [
        "Añadimos unos la matriz X:"
      ]
    },
    {
      "cell_type": "code",
      "execution_count": 5,
      "metadata": {},
      "outputs": [],
      "source": [
        "\n",
        "#añadimos unos a la X\n",
        "X_ready = np.concatenate([np.ones((m_train, 1)), x_train], axis=1)"
      ]
    },
    {
      "cell_type": "markdown",
      "metadata": {},
      "source": [
        "Imprimimos:"
      ]
    },
    {
      "cell_type": "code",
      "execution_count": 6,
      "metadata": {},
      "outputs": [
        {
          "name": "stdout",
          "output_type": "stream",
          "text": [
            "X_norm[:,0]  X_norm[:, 1]  X_norm[:, 2]  X_norm[:, 3]  X_norm[:, 4]  X_norm[:, 5]  X_norm[:, 6]  X_norm[:, 7]  X_norm[:, 8]  X_norm[:, 9]  X_norm[:, 10]  X_norm[:, 11]  X_norm[:, 12]  X_norm[:, 13]  X_norm[:, 14]\n",
            "----------------------------------------------------------------------------------------------------------------------------------------------------------------------------\n",
            "  1.0000           1.0000       0.0000        1.0000        11.0000        0.0000        6.0000        0.0000        1.0000        0.2000         0.1970         0.5500         0.2239        18.0000        54.0000\n",
            "  1.0000           4.0000       0.0000       10.0000        18.0000        0.0000        2.0000        1.0000        1.0000        0.5200         0.5000         0.4200         0.1045        65.0000       453.0000\n",
            "  1.0000           4.0000       0.0000       12.0000         3.0000        0.0000        3.0000        1.0000        3.0000        0.4600         0.4545         1.0000         0.2239         0.0000         3.0000\n",
            "  1.0000           2.0000       0.0000        4.0000        18.0000        0.0000        0.0000        0.0000        2.0000        0.4600         0.4545         0.3100         0.0000        71.0000       101.0000\n",
            "  1.0000           1.0000       0.0000       12.0000         6.0000        0.0000        0.0000        0.0000        1.0000        0.2000         0.2273         0.7500         0.1045         0.0000         1.0000\n",
            "  1.0000           2.0000       1.0000        6.0000        16.0000        0.0000        3.0000        1.0000        1.0000        0.7200         0.6515         0.3000         0.4925        72.0000       320.0000\n",
            "  1.0000           1.0000       0.0000        1.0000        15.0000        0.0000        2.0000        1.0000        2.0000        0.2200         0.2273         0.8700         0.1642         3.0000        32.0000\n",
            "  1.0000           4.0000       1.0000       10.0000         4.0000        0.0000        0.0000        0.0000        1.0000        0.4200         0.4242         0.7700         0.2836         2.0000        10.0000\n",
            "  1.0000           1.0000       1.0000        3.0000        13.0000        0.0000        2.0000        1.0000        1.0000        0.6000         0.5758         0.7800         0.1940        77.0000       207.0000\n",
            "  1.0000           1.0000       0.0000        2.0000        15.0000        0.0000        4.0000        1.0000        1.0000        0.2200         0.1970         0.3700         0.3284         4.0000        56.0000\n"
          ]
        }
      ],
      "source": [
        "# No olvidarse agregar unos a la matriz de x\n",
        "\n",
        "print('{:>8s}{:>10s}{:>10s}{:>10s}{:>8s}{:>8s}{:>8s}{:>8s}{:>6s}{:>10s}{:>10s}{:>10s}{:>10s}{:>10s}{:>10s}'.format(\n",
        "    'X_norm[:,0]', '  X_norm[:, 1]', '  X_norm[:, 2]', '  X_norm[:, 3]', '  X_norm[:, 4]', '  X_norm[:, 5]', '  X_norm[:, 6]', '  X_norm[:, 7]', '  X_norm[:, 8]', '  X_norm[:, 9]', '  X_norm[:, 10]', '  X_norm[:, 11]',\n",
        "    '  X_norm[:, 12]', '  X_norm[:, 13]', '  X_norm[:, 14]'\n",
        "))\n",
        "print('-' * 172)\n",
        "\n",
        "for i in range(10):\n",
        "    print('{:8.4f}{:17.4f}{:13.4f}{:14.4f}{:15.4f}{:14.4f}{:14.4f}{:14.4f}{:14.4f}{:14.4f}{:15.4f}{:15.4f}{:15.4f}{:15.4f}{:15.4f}'.format(\n",
        "        X_ready[i, 0], \n",
        "        X_ready[i, 1], \n",
        "        X_ready[i, 2], \n",
        "        X_ready[i, 3], \n",
        "        X_ready[i, 4], \n",
        "        X_ready[i, 5], \n",
        "        X_ready[i, 6], \n",
        "        X_ready[i, 7], \n",
        "        X_ready[i, 8], \n",
        "        X_ready[i, 9], \n",
        "        X_ready[i, 10], \n",
        "        X_ready[i, 11],\n",
        "        X_ready[i, 12], \n",
        "        X_ready[i, 13],\n",
        "        X_ready[i, 14],\n",
        "    ))"
      ]
    },
    {
      "cell_type": "markdown",
      "metadata": {
        "id": "fmngP2fZRGH-"
      },
      "source": [
        "### 3.2 Calculando Theta"
      ]
    },
    {
      "cell_type": "code",
      "execution_count": 8,
      "metadata": {
        "id": "s2y21LplRGH-",
        "outputId": "b5b119d0-be6d-43ac-d3ab-a06dc169bfeb"
      },
      "outputs": [
        {
          "name": "stdout",
          "output_type": "stream",
          "text": [
            "########################################################################################################\n",
            "Los valores de theta usando la ecuacion de la normal es calculados son:\n",
            "theta 1: -4.4110132213504016e-11\n",
            "theta 2: 8.881664848026105e-11\n",
            "theta 3: -5.38140365602402e-11\n",
            "theta 4: -2.296619752012452e-11\n",
            "theta 5: -7.489148190487072e-14\n",
            "theta 6: -4.371283716941843e-11\n",
            "theta 7: -5.826433085998062e-13\n",
            "theta 8: -3.992334240976447e-12\n",
            "theta 9: -3.604547216262688e-13\n",
            "theta 10: -1.0098533120839193e-10\n",
            "theta 11: 1.032470775541583e-10\n",
            "theta 12: 3.3896774276342967e-12\n",
            "theta 13: 6.5455418862825354e-12\n",
            "theta 14: 1.0000000000000029\n",
            "theta 15: 1.000000000000001\n",
            "########################################################################################################\n"
          ]
        }
      ],
      "source": [
        "# Calculamos thea haciendo uso de la funcion\n",
        "theta = calcularThethaEcuacionNormal(X_ready, y_train);\n",
        "\n",
        "print(f\"########################################################################################################\")\n",
        "\n",
        "print(\"Los valores de theta usando la ecuacion de la normal es calculados son:\")\n",
        "i = 0\n",
        "for tht2 in theta:\n",
        "    i += 1\n",
        "    print(f\"theta {i}: {tht2}\")\n",
        "print(f\"########################################################################################################\")"
      ]
    },
    {
      "cell_type": "markdown",
      "metadata": {
        "id": "VnDF1YpCRGH-"
      },
      "source": [
        "### 3.3 Ejemplos de Predicciones haciendo uso de la Ecuacion de la normal"
      ]
    },
    {
      "cell_type": "markdown",
      "metadata": {
        "id": "XPXXX4RHRGH-"
      },
      "source": [
        "\n",
        "Se creo una matriz con 11 ejemplos, donde se hace las predicciones correpondientes:"
      ]
    },
    {
      "cell_type": "code",
      "execution_count": 9,
      "metadata": {
        "id": "k4cssi0ERGH-",
        "outputId": "68a0e872-030a-4a05-8b19-d819b5c93541"
      },
      "outputs": [
        {
          "name": "stdout",
          "output_type": "stream",
          "text": [
            "+----+----------+------+--------+------+-----------+-----------+--------------+--------------+--------+---------+-------+-------------+----------+--------------+-------+\n",
            "|    |   season |   yr |   mnth |   hr |   holiday |   weekday |   workingday |   weathersit |   temp |   atemp |   hum |   windspeed |   casual |   registered |   cnt |\n",
            "+====+==========+======+========+======+===========+===========+==============+==============+========+=========+=======+=============+==========+==============+=======+\n",
            "|  1 |        4 |    1 |     12 |   12 |         0 |         1 |            1 |            3 |   0.44 |  0.4394 |  1    |      0.2239 |       23 |          150 |   173 |\n",
            "+----+----------+------+--------+------+-----------+-----------+--------------+--------------+--------+---------+-------+-------------+----------+--------------+-------+\n",
            "|  1 |        4 |    1 |     12 |   13 |         0 |         1 |            1 |            3 |   0.44 |  0.4394 |  1    |      0.2239 |       30 |          190 |   220 |\n",
            "+----+----------+------+--------+------+-----------+-----------+--------------+--------------+--------+---------+-------+-------------+----------+--------------+-------+\n",
            "|  1 |        4 |    1 |     12 |   14 |         0 |         1 |            1 |            2 |   0.5  |  0.4848 |  0.94 |      0.2239 |       31 |          179 |   210 |\n",
            "+----+----------+------+--------+------+-----------+-----------+--------------+--------------+--------+---------+-------+-------------+----------+--------------+-------+\n",
            "|  1 |        4 |    1 |     12 |   15 |         0 |         1 |            1 |            2 |   0.5  |  0.4848 |  0.87 |      0.1642 |       29 |          207 |   236 |\n",
            "+----+----------+------+--------+------+-----------+-----------+--------------+--------------+--------+---------+-------+-------------+----------+--------------+-------+\n",
            "|  1 |        4 |    1 |     12 |   16 |         0 |         1 |            1 |            2 |   0.5  |  0.4848 |  0.88 |      0.1045 |       37 |          308 |   345 |\n",
            "+----+----------+------+--------+------+-----------+-----------+--------------+--------------+--------+---------+-------+-------------+----------+--------------+-------+\n"
          ]
        }
      ],
      "source": [
        "matriz_datos = np.array([\n",
        "[1,4,1,12,12,0,1,1,3,0.44,0.4394,1,0.2239,23,150],\n",
        "[1,4,1,12,13,0,1,1,3,0.44,0.4394,1,0.2239,30,190],\n",
        "[1,4,1,12,14,0,1,1,2,0.5,0.4848,0.94,0.2239,31,179],\n",
        "[1,4,1,12,15,0,1,1,2,0.5,0.4848,0.87,0.1642,29,207],\n",
        "[1,4,1,12,16,0,1,1,2,0.5,0.4848,0.88,0.1045,37,308],\n",
        "])\n",
        "\n",
        "#creamos un vector parta almacenar cada Y predicha\n",
        "y_pre_ecua = []\n",
        "#Calculamos la Y predicha de los 11 ejemplos de prediccion\n",
        "for datos in matriz_datos:\n",
        "    y_pre_ecua.append(np.dot(datos, theta))\n",
        "\n",
        "matriz_datos_ecuaNorma = np.column_stack((matriz_datos, y_pre_ecua))\n",
        "\n",
        "\n",
        "nombres_columnas = ['season','yr','mnth','hr','holiday','weekday','workingday','weathersit','temp','atemp','hum','windspeed','casual','registered','cnt']\n",
        "\n",
        "# Convertir la matriz en una lista de listas\n",
        "datos_para_tabla = matriz_datos_ecuaNorma.tolist()\n",
        "\n",
        "# Imprimir la tabla\n",
        "print(tabulate(datos_para_tabla, headers=nombres_columnas, tablefmt='grid'))\n",
        "\n"
      ]
    },
    {
      "cell_type": "markdown",
      "metadata": {
        "id": "aSUJ-wqfRGH_"
      },
      "source": [
        "### 3.4 Validaciones\n",
        "Para hacer las validaciones correspondientes, primero se crea la funcion del **Mean squeared error**\n",
        "\n",
        "Siguiendo el consejo de 80/20, donde 80% es para la fase de entrenamiento, y 20% es para la fase de prueba."
      ]
    },
    {
      "cell_type": "code",
      "execution_count": 10,
      "metadata": {},
      "outputs": [],
      "source": [
        "#Creamos la funcion:\n",
        "def mean_squared_error(y_pred, y_actual):\n",
        "    resta = y_pred - y_actual\n",
        "    err_cuadrado = np.sum(resta ** 2)\n",
        "    return err_cuadrado / len(y_pred)"
      ]
    },
    {
      "cell_type": "code",
      "execution_count": 11,
      "metadata": {
        "id": "TYPT4gYiRGH_",
        "outputId": "4d302938-149e-46ee-9b1f-9f9d40315a92"
      },
      "outputs": [
        {
          "name": "stdout",
          "output_type": "stream",
          "text": [
            "Error Cuadrático Medio (MSE) = 3.944306192738448e-21\n",
            "Raíz del Error Cuadrático Medio (RMSE) = 6.280371161594232e-11\n"
          ]
        }
      ],
      "source": [
        "m_ready = len(y_test)\n",
        "\n",
        "#Concatenamos de unos a la primera posicion del X_test\n",
        "X_ready_test = np.concatenate([np.ones((m_ready, 1)), x_test], axis=1)\n",
        "\n",
        "#creamos un array que almacenara cada una de las y_predicha\n",
        "y_predicha = []\n",
        "for data_test_ready in X_ready_test:\n",
        "    y_predicha.append(np.dot(data_test_ready, theta))\n",
        "\n",
        "#calculamos el error cuadratico medio:\n",
        "mse = mean_squared_error(y_predicha, y_test)\n",
        "#calculamos el error cuadratico medio:\n",
        "print('Error Cuadrático Medio (MSE) = ' + str(mse))\n",
        "print('Raíz del Error Cuadrático Medio (RMSE) = ' + str(np.sqrt(mse)))"
      ]
    }
  ],
  "metadata": {
    "colab": {
      "provenance": [],
      "toc_visible": true
    },
    "kernelspec": {
      "display_name": "Python 3",
      "language": "python",
      "name": "python3"
    },
    "language_info": {
      "codemirror_mode": {
        "name": "ipython",
        "version": 3
      },
      "file_extension": ".py",
      "mimetype": "text/x-python",
      "name": "python",
      "nbconvert_exporter": "python",
      "pygments_lexer": "ipython3",
      "version": "3.12.2"
    }
  },
  "nbformat": 4,
  "nbformat_minor": 0
}
